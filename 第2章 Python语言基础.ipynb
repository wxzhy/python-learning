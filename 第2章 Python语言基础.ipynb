{
 "cells": [
  {
   "cell_type": "markdown",
   "id": "c73117d35b1fe4a8",
   "metadata": {},
   "source": [
    "例1 求三角形面积"
   ]
  },
  {
   "cell_type": "code",
   "execution_count": 1,
   "id": "e23b1d4118da770d",
   "metadata": {
    "ExecuteTime": {
     "end_time": "2023-09-15T06:27:37.222191700Z",
     "start_time": "2023-09-15T06:27:37.206467400Z"
    }
   },
   "outputs": [
    {
     "name": "stdout",
     "output_type": "stream",
     "text": [
      "6.0\n"
     ]
    }
   ],
   "source": [
    "import math  # 导入模块\n",
    "\n",
    "a = 3.0  # 赋值\n",
    "b = 4.0\n",
    "c = 5.0\n",
    "h = (a + b + c) / 2  # 三角形周长的一半\n",
    "s = math.sqrt(h * (h - a) * (h - b) * (h - c))\n",
    "print(s)  # 调用函数表达式\n"
   ]
  },
  {
   "cell_type": "markdown",
   "id": "76aa7fcb8ce16900",
   "metadata": {},
   "source": [
    "例2 变量增量运算"
   ]
  },
  {
   "cell_type": "code",
   "execution_count": 116,
   "id": "initial_id",
   "metadata": {
    "ExecuteTime": {
     "end_time": "2023-09-04T07:56:35.088983100Z",
     "start_time": "2023-09-04T07:56:34.359820100Z"
    }
   },
   "outputs": [
    {
     "data": {
      "text/plain": "101"
     },
     "execution_count": 116,
     "metadata": {},
     "output_type": "execute_result"
    }
   ],
   "source": [
    "i = 100\n",
    "i = i + 1\n",
    "i"
   ]
  },
  {
   "cell_type": "markdown",
   "id": "768d5eebdb1aaa89",
   "metadata": {},
   "source": [
    "例3 交换两个变量的示例  \n",
    "python 中没有变量，只有对象，变量是对象的引用\n",
    "赋值语句将变量绑定到对象上，而不是将值复制到变量上"
   ]
  },
  {
   "cell_type": "code",
   "execution_count": 117,
   "id": "f55bb47e06826323",
   "metadata": {
    "ExecuteTime": {
     "end_time": "2023-09-04T07:56:35.108860100Z",
     "start_time": "2023-09-04T07:56:34.374364700Z"
    }
   },
   "outputs": [
    {
     "data": {
      "text/plain": "(456, 123)"
     },
     "execution_count": 117,
     "metadata": {},
     "output_type": "execute_result"
    }
   ],
   "source": [
    "a = 123\n",
    "b = 456\n",
    "t = a\n",
    "a = b  #a,b=b,a\n",
    "b = t\n",
    "a, b"
   ]
  },
  {
   "cell_type": "markdown",
   "id": "ce8352e1558a213",
   "metadata": {},
   "source": [
    "整型字面量\n",
    "type()函数返回对象的类型"
   ]
  },
  {
   "cell_type": "code",
   "execution_count": 118,
   "id": "a4c20f61036f196a",
   "metadata": {
    "ExecuteTime": {
     "end_time": "2023-09-04T07:56:35.136143800Z",
     "start_time": "2023-09-04T07:56:34.375635200Z"
    }
   },
   "outputs": [
    {
     "name": "stdout",
     "output_type": "stream",
     "text": [
      "<class 'int'>\n"
     ]
    }
   ],
   "source": [
    "a = 123\n",
    "print(type(a))"
   ]
  },
  {
   "cell_type": "code",
   "execution_count": 119,
   "id": "a62485e052ef26d",
   "metadata": {
    "ExecuteTime": {
     "end_time": "2023-09-04T07:56:35.156650600Z",
     "start_time": "2023-09-04T07:56:34.393016100Z"
    }
   },
   "outputs": [
    {
     "data": {
      "text/plain": "1000000000000000"
     },
     "execution_count": 119,
     "metadata": {},
     "output_type": "execute_result"
    }
   ],
   "source": [
    "1_000_000_000_000_000"
   ]
  },
  {
   "cell_type": "code",
   "execution_count": 120,
   "id": "ed9d315b209bb515",
   "metadata": {
    "ExecuteTime": {
     "end_time": "2023-09-04T07:56:35.158199100Z",
     "start_time": "2023-09-04T07:56:34.406073400Z"
    }
   },
   "outputs": [
    {
     "data": {
      "text/plain": "4294967295"
     },
     "execution_count": 120,
     "metadata": {},
     "output_type": "execute_result"
    }
   ],
   "source": [
    "0x_FF_FF_FF_FF"
   ]
  },
  {
   "cell_type": "markdown",
   "id": "abcb2d1bcab94c13",
   "metadata": {},
   "source": [
    "例4 浮点类型字面量"
   ]
  },
  {
   "cell_type": "code",
   "execution_count": 121,
   "id": "e5b684ccd0300250",
   "metadata": {
    "ExecuteTime": {
     "end_time": "2023-09-04T07:56:35.167745200Z",
     "start_time": "2023-09-04T07:56:34.417675100Z"
    }
   },
   "outputs": [
    {
     "data": {
      "text/plain": "3.14"
     },
     "execution_count": 121,
     "metadata": {},
     "output_type": "execute_result"
    }
   ],
   "source": [
    "3.14"
   ]
  },
  {
   "cell_type": "code",
   "execution_count": 122,
   "id": "633f25703eb5a4b9",
   "metadata": {
    "ExecuteTime": {
     "end_time": "2023-09-04T07:56:35.183393Z",
     "start_time": "2023-09-04T07:56:34.426897500Z"
    }
   },
   "outputs": [
    {
     "name": "stdout",
     "output_type": "stream",
     "text": [
      "<class 'float'>\n"
     ]
    }
   ],
   "source": [
    "print(type(3.14))"
   ]
  },
  {
   "cell_type": "markdown",
   "id": "66420cc4a5a76543",
   "metadata": {},
   "source": [
    "python中的复数\n",
    "例5：复数示例"
   ]
  },
  {
   "cell_type": "code",
   "execution_count": 123,
   "id": "c5eb642226cbdd01",
   "metadata": {
    "ExecuteTime": {
     "end_time": "2023-09-04T07:56:35.183393Z",
     "start_time": "2023-09-04T07:56:34.438993100Z"
    }
   },
   "outputs": [
    {
     "data": {
      "text/plain": "(1+2j)"
     },
     "execution_count": 123,
     "metadata": {},
     "output_type": "execute_result"
    }
   ],
   "source": [
    "1 + 2j"
   ]
  },
  {
   "cell_type": "markdown",
   "id": "a44c02da5323364c",
   "metadata": {},
   "source": [
    "复数类型为Complex"
   ]
  },
  {
   "cell_type": "code",
   "execution_count": 124,
   "id": "212320c721c51064",
   "metadata": {
    "ExecuteTime": {
     "end_time": "2023-09-04T07:56:35.183393Z",
     "start_time": "2023-09-04T07:56:34.468944100Z"
    }
   },
   "outputs": [
    {
     "name": "stdout",
     "output_type": "stream",
     "text": [
      "<class 'complex'>\n"
     ]
    }
   ],
   "source": [
    "print(type(1 + 2j))"
   ]
  },
  {
   "cell_type": "code",
   "execution_count": 125,
   "id": "2291783f812bb645",
   "metadata": {
    "ExecuteTime": {
     "end_time": "2023-09-04T07:56:35.183393Z",
     "start_time": "2023-09-04T07:56:34.469574Z"
    }
   },
   "outputs": [
    {
     "name": "stdout",
     "output_type": "stream",
     "text": [
      "<class 'complex'>\n"
     ]
    }
   ],
   "source": [
    "print(complex)"
   ]
  },
  {
   "cell_type": "markdown",
   "id": "2a35aaac398c5564",
   "metadata": {},
   "source": [
    "复数用complex()初始化"
   ]
  },
  {
   "cell_type": "code",
   "execution_count": 126,
   "id": "7b67b263cab2dc7e",
   "metadata": {
    "ExecuteTime": {
     "end_time": "2023-09-04T07:56:35.199046Z",
     "start_time": "2023-09-04T07:56:34.486657700Z"
    }
   },
   "outputs": [
    {
     "data": {
      "text/plain": "(4+5j)"
     },
     "execution_count": 126,
     "metadata": {},
     "output_type": "execute_result"
    }
   ],
   "source": [
    "c = complex(4, 5)\n",
    "c"
   ]
  },
  {
   "cell_type": "markdown",
   "id": "c767ee1b71af4b95",
   "metadata": {},
   "source": [
    "Python中bool类型\n",
    "例6：布尔值"
   ]
  },
  {
   "cell_type": "code",
   "execution_count": 127,
   "id": "274454049aa3979a",
   "metadata": {
    "ExecuteTime": {
     "end_time": "2023-09-04T07:56:35.199046Z",
     "start_time": "2023-09-04T07:56:34.501705200Z"
    }
   },
   "outputs": [
    {
     "data": {
      "text/plain": "(True, False)"
     },
     "execution_count": 127,
     "metadata": {},
     "output_type": "execute_result"
    }
   ],
   "source": [
    "True, False"
   ]
  },
  {
   "cell_type": "code",
   "execution_count": 128,
   "id": "63ff0fbe0b38fc72",
   "metadata": {
    "ExecuteTime": {
     "end_time": "2023-09-04T07:56:35.199046Z",
     "start_time": "2023-09-04T07:56:34.507170800Z"
    }
   },
   "outputs": [
    {
     "name": "stdout",
     "output_type": "stream",
     "text": [
      "(<class 'bool'>, <class 'bool'>)\n"
     ]
    }
   ],
   "source": [
    "print((type(True), type(False)))"
   ]
  },
  {
   "cell_type": "markdown",
   "id": "931ac5253aaba8fc",
   "metadata": {},
   "source": [
    "例7：布尔值示例\n",
    "bool()函数将非0值转换为True，0转换为False"
   ]
  },
  {
   "cell_type": "code",
   "execution_count": 129,
   "id": "c88d390f2b967725",
   "metadata": {
    "ExecuteTime": {
     "end_time": "2023-09-04T07:56:35.199046Z",
     "start_time": "2023-09-04T07:56:34.517491300Z"
    }
   },
   "outputs": [
    {
     "data": {
      "text/plain": "False"
     },
     "execution_count": 129,
     "metadata": {},
     "output_type": "execute_result"
    }
   ],
   "source": [
    "bool(0)"
   ]
  },
  {
   "cell_type": "code",
   "execution_count": 130,
   "id": "3cbb67b1cd4966d1",
   "metadata": {
    "ExecuteTime": {
     "end_time": "2023-09-04T07:56:35.199046Z",
     "start_time": "2023-09-04T07:56:34.533502100Z"
    }
   },
   "outputs": [
    {
     "data": {
      "text/plain": "True"
     },
     "execution_count": 130,
     "metadata": {},
     "output_type": "execute_result"
    }
   ],
   "source": [
    "bool(1)"
   ]
  },
  {
   "cell_type": "markdown",
   "id": "3ea3052933d3932",
   "metadata": {},
   "source": [
    "bool()函数将非空字符串转换为True，空字符串转换为False"
   ]
  },
  {
   "cell_type": "code",
   "execution_count": 131,
   "id": "45a751e5edd26a06",
   "metadata": {
    "ExecuteTime": {
     "end_time": "2023-09-04T07:56:35.199046Z",
     "start_time": "2023-09-04T07:56:34.549229500Z"
    }
   },
   "outputs": [
    {
     "data": {
      "text/plain": "True"
     },
     "execution_count": 131,
     "metadata": {},
     "output_type": "execute_result"
    }
   ],
   "source": [
    "bool(\"abc\")"
   ]
  },
  {
   "cell_type": "code",
   "execution_count": 132,
   "id": "90448a59261baa1d",
   "metadata": {
    "ExecuteTime": {
     "end_time": "2023-09-04T07:56:35.199046Z",
     "start_time": "2023-09-04T07:56:34.565159Z"
    }
   },
   "outputs": [
    {
     "data": {
      "text/plain": "False"
     },
     "execution_count": 132,
     "metadata": {},
     "output_type": "execute_result"
    }
   ],
   "source": [
    "bool(\"\")"
   ]
  },
  {
   "cell_type": "markdown",
   "id": "cc07139023f80384",
   "metadata": {},
   "source": [
    "例8：隐式类型转换"
   ]
  },
  {
   "cell_type": "code",
   "execution_count": 133,
   "id": "dd2ce3742e0f2f7f",
   "metadata": {
    "ExecuteTime": {
     "end_time": "2023-09-04T07:56:35.199046Z",
     "start_time": "2023-09-04T07:56:34.568505700Z"
    }
   },
   "outputs": [
    {
     "data": {
      "text/plain": "124.23"
     },
     "execution_count": 133,
     "metadata": {},
     "output_type": "execute_result"
    }
   ],
   "source": [
    "f = 123 + 1.23\n",
    "f"
   ]
  },
  {
   "cell_type": "code",
   "execution_count": 134,
   "id": "ceb7807eabf59b38",
   "metadata": {
    "ExecuteTime": {
     "end_time": "2023-09-04T07:56:35.199046Z",
     "start_time": "2023-09-04T07:56:34.583042Z"
    }
   },
   "outputs": [
    {
     "name": "stdout",
     "output_type": "stream",
     "text": [
      "<class 'float'>\n"
     ]
    }
   ],
   "source": [
    "print(type(f))"
   ]
  },
  {
   "cell_type": "code",
   "execution_count": 135,
   "id": "ac860929dcbd091b",
   "metadata": {
    "ExecuteTime": {
     "end_time": "2023-09-04T07:56:35.199046Z",
     "start_time": "2023-09-04T07:56:34.598369900Z"
    }
   },
   "outputs": [
    {
     "data": {
      "text/plain": "124"
     },
     "execution_count": 135,
     "metadata": {},
     "output_type": "execute_result"
    }
   ],
   "source": [
    "123 + True  #True转换为1"
   ]
  },
  {
   "cell_type": "code",
   "execution_count": 136,
   "id": "d9aa1e00d6c00fee",
   "metadata": {
    "ExecuteTime": {
     "end_time": "2023-09-04T07:56:35.199046Z",
     "start_time": "2023-09-04T07:56:34.628979600Z"
    }
   },
   "outputs": [
    {
     "data": {
      "text/plain": "123"
     },
     "execution_count": 136,
     "metadata": {},
     "output_type": "execute_result"
    }
   ],
   "source": [
    "123 + False  #False转换为0"
   ]
  },
  {
   "cell_type": "markdown",
   "id": "5805abd28b79e61d",
   "metadata": {},
   "source": [
    "例9：显式类型转换"
   ]
  },
  {
   "cell_type": "code",
   "execution_count": 137,
   "id": "14c8ae03ebff6e96",
   "metadata": {
    "ExecuteTime": {
     "end_time": "2023-09-04T07:56:35.199046Z",
     "start_time": "2023-09-04T07:56:34.655319400Z"
    }
   },
   "outputs": [
    {
     "data": {
      "text/plain": "1"
     },
     "execution_count": 137,
     "metadata": {},
     "output_type": "execute_result"
    }
   ],
   "source": [
    "int(1.23)"
   ]
  },
  {
   "cell_type": "code",
   "execution_count": 138,
   "id": "c9f10c33023d72a2",
   "metadata": {
    "ExecuteTime": {
     "end_time": "2023-09-04T07:56:35.225133500Z",
     "start_time": "2023-09-04T07:56:34.663262900Z"
    }
   },
   "outputs": [
    {
     "data": {
      "text/plain": "10.0"
     },
     "execution_count": 138,
     "metadata": {},
     "output_type": "execute_result"
    }
   ],
   "source": [
    "float(10)"
   ]
  },
  {
   "cell_type": "code",
   "execution_count": 139,
   "id": "347e8dc8b6cbdd28",
   "metadata": {
    "ExecuteTime": {
     "end_time": "2023-09-04T07:56:35.225133500Z",
     "start_time": "2023-09-04T07:56:34.680230600Z"
    }
   },
   "outputs": [
    {
     "data": {
      "text/plain": "True"
     },
     "execution_count": 139,
     "metadata": {},
     "output_type": "execute_result"
    }
   ],
   "source": [
    "bool(\"abc\")"
   ]
  },
  {
   "cell_type": "markdown",
   "id": "a2038b7a8f9ac83b",
   "metadata": {},
   "source": [
    "字符串无法转化为int或float"
   ]
  },
  {
   "cell_type": "code",
   "execution_count": 140,
   "id": "a87e0bb54aac50a5",
   "metadata": {
    "ExecuteTime": {
     "end_time": "2023-09-04T07:56:35.225133500Z",
     "start_time": "2023-09-04T07:56:34.708833800Z"
    }
   },
   "outputs": [],
   "source": [
    "# float(\"123xyz\")"
   ]
  },
  {
   "cell_type": "markdown",
   "id": "9122d5e46a15b7c5",
   "metadata": {},
   "source": [
    "例10：字符串编码\n",
    "用ord()函数获取字符的编码（Unicode）\n",
    "用chr()函数将编码转换为字符"
   ]
  },
  {
   "cell_type": "code",
   "execution_count": 141,
   "id": "c2711f78288d38b5",
   "metadata": {
    "ExecuteTime": {
     "end_time": "2023-09-04T07:56:35.225133500Z",
     "start_time": "2023-09-04T07:56:34.724661Z"
    }
   },
   "outputs": [
    {
     "data": {
      "text/plain": "65"
     },
     "execution_count": 141,
     "metadata": {},
     "output_type": "execute_result"
    }
   ],
   "source": [
    "ord('A')"
   ]
  },
  {
   "cell_type": "code",
   "execution_count": 142,
   "id": "f2695331a64a63c7",
   "metadata": {
    "ExecuteTime": {
     "end_time": "2023-09-04T07:56:35.225133500Z",
     "start_time": "2023-09-04T07:56:34.740377700Z"
    }
   },
   "outputs": [
    {
     "data": {
      "text/plain": "'A'"
     },
     "execution_count": 142,
     "metadata": {},
     "output_type": "execute_result"
    }
   ],
   "source": [
    "chr(65)"
   ]
  },
  {
   "cell_type": "code",
   "execution_count": 143,
   "id": "f91656954bfdb8c1",
   "metadata": {
    "ExecuteTime": {
     "end_time": "2023-09-04T07:56:35.225133500Z",
     "start_time": "2023-09-04T07:56:34.772373Z"
    }
   },
   "outputs": [
    {
     "data": {
      "text/plain": "24352"
     },
     "execution_count": 143,
     "metadata": {},
     "output_type": "execute_result"
    }
   ],
   "source": [
    "ord('张')"
   ]
  },
  {
   "cell_type": "code",
   "execution_count": 144,
   "id": "dbbd041e4b9a655",
   "metadata": {
    "ExecuteTime": {
     "end_time": "2023-09-04T07:56:35.225133500Z",
     "start_time": "2023-09-04T07:56:34.788098400Z"
    }
   },
   "outputs": [
    {
     "data": {
      "text/plain": "'张'"
     },
     "execution_count": 144,
     "metadata": {},
     "output_type": "execute_result"
    }
   ],
   "source": [
    "chr(24352)"
   ]
  },
  {
   "cell_type": "markdown",
   "id": "7f2a2ded7c6e37be",
   "metadata": {},
   "source": [
    "list类型\n",
    "例11：列表类型示例"
   ]
  },
  {
   "cell_type": "code",
   "execution_count": 145,
   "id": "c39ef60d91e172d7",
   "metadata": {
    "ExecuteTime": {
     "end_time": "2023-09-04T07:56:35.225133500Z",
     "start_time": "2023-09-04T07:56:34.806586200Z"
    }
   },
   "outputs": [
    {
     "data": {
      "text/plain": "310"
     },
     "execution_count": 145,
     "metadata": {},
     "output_type": "execute_result"
    }
   ],
   "source": [
    "list1 = [10, 20, 30, 40, 50]  #创建列表对象并绑定到变量list1\n",
    "list1[0] = 110  #修改列表list1的第1个元素（索引位置0）\n",
    "list1.append(60)  #在列表list1中添加元素50。\n",
    "sum(list1)  #使用内置函数sum返回list1中的元素之和。"
   ]
  },
  {
   "cell_type": "code",
   "execution_count": 146,
   "id": "7cfab0712d8c667c",
   "metadata": {
    "ExecuteTime": {
     "end_time": "2023-09-04T07:56:35.225133500Z",
     "start_time": "2023-09-04T07:56:34.835757Z"
    }
   },
   "outputs": [
    {
     "data": {
      "text/plain": "6"
     },
     "execution_count": 146,
     "metadata": {},
     "output_type": "execute_result"
    }
   ],
   "source": [
    "len(list1)  #使用内置函数len返回list1中的元素个数。"
   ]
  },
  {
   "cell_type": "code",
   "execution_count": 147,
   "id": "b0c385c4be9db89",
   "metadata": {
    "ExecuteTime": {
     "end_time": "2023-09-04T07:56:35.225133500Z",
     "start_time": "2023-09-04T07:56:34.841798100Z"
    }
   },
   "outputs": [
    {
     "data": {
      "text/plain": "110"
     },
     "execution_count": 147,
     "metadata": {},
     "output_type": "execute_result"
    }
   ],
   "source": [
    "max(list1)  #使用内置函数max返回list1中的最大元素。"
   ]
  },
  {
   "cell_type": "markdown",
   "id": "ae04196ef87d3b19",
   "metadata": {},
   "source": [
    "例12 求园的周长和面积\n",
    "print()提供格式化输出"
   ]
  },
  {
   "cell_type": "code",
   "execution_count": 148,
   "id": "64c6ae5700814840",
   "metadata": {
    "ExecuteTime": {
     "end_time": "2023-09-04T07:56:35.230644600Z",
     "start_time": "2023-09-04T07:56:34.855547700Z"
    }
   },
   "outputs": [
    {
     "name": "stdout",
     "output_type": "stream",
     "text": [
      "圆的周长为:18.85\n",
      "圆的面积为:28.27\n"
     ]
    }
   ],
   "source": [
    "import math  #导入语句导入math模块 \n",
    "\n",
    "r = 3.0  #赋值语句\n",
    "p = 2 * math.pi * r  #求圆的周长\n",
    "s = math.pi * r ** 2  #求圆的面积\n",
    "print(\"圆的周长为:%.2f\" % p)  #表达式语句，输出圆的周长\n",
    "print(\"圆的面积为:%.2f\" % s)  #输出圆的面积"
   ]
  },
  {
   "cell_type": "markdown",
   "id": "ee48ede0ba3da6a1",
   "metadata": {},
   "source": [
    "函数的使用"
   ]
  },
  {
   "cell_type": "code",
   "execution_count": 149,
   "id": "c94718703c96e392",
   "metadata": {
    "ExecuteTime": {
     "end_time": "2023-09-04T07:56:35.230644600Z",
     "start_time": "2023-09-04T07:56:34.867749900Z"
    }
   },
   "outputs": [
    {
     "name": "stdout",
     "output_type": "stream",
     "text": [
      "半径为4的圆的周长为:25.13,面积为:50.27\n",
      "半径为5的圆的周长为:31.42,面积为:78.54\n",
      "半径为6的圆的周长为:37.70,面积为:113.10\n"
     ]
    }
   ],
   "source": [
    "import math \n",
    "\n",
    "\n",
    "def circular(r):  #无需指定类型\n",
    "    p = 2 * math.pi * r  #求圆的周长\n",
    "    s = math.pi * r ** 2  #求圆的面积\n",
    "    return p, s  #可以返回多个变量\n",
    "\n",
    "\n",
    "if __name__ == \"__main__\":\n",
    "    p1, s1 = circular(4)  #调用函数\n",
    "    p2, s2 = circular(5)\n",
    "    p3, s3 = circular(6)\n",
    "    print(\"半径为4的圆的周长为:%.2f,面积为:%.2f\" % (p1, s1))\n",
    "    print(\"半径为5的圆的周长为:%.2f,面积为:%.2f\" % (p2, s2))\n",
    "    print(\"半径为6的圆的周长为:%.2f,面积为:%.2f\" % (p3, s3))"
   ]
  },
  {
   "cell_type": "markdown",
   "id": "953b00fa205d5e8d",
   "metadata": {},
   "source": [
    "input()函数的使用"
   ]
  },
  {
   "cell_type": "code",
   "execution_count": 150,
   "id": "fa9782b511517e21",
   "metadata": {
    "ExecuteTime": {
     "end_time": "2023-09-04T07:56:38.597346400Z",
     "start_time": "2023-09-04T07:56:34.883747800Z"
    }
   },
   "outputs": [
    {
     "name": "stdout",
     "output_type": "stream",
     "text": [
      "半径为100的圆的周长为:628.32,面积为:31415.93\n"
     ]
    }
   ],
   "source": [
    "import math\n",
    "\n",
    "\n",
    "def circular(r):\n",
    "    p = 2 * math.pi * r\n",
    "    s = math.pi * r ** 2\n",
    "    return p, s\n",
    "\n",
    "\n",
    "if __name__ == \"__main__\":\n",
    "    r = float(input(\"请输入半径r：\"))  #input()函数提示信息字符串\n",
    "    p, s = circular(r)\n",
    "    print(\"半径为%.0f的圆的周长为:%.2f,面积为:%.2f\" % (r, p, s))"
   ]
  }
 ],
 "metadata": {
  "kernelspec": {
   "display_name": "Python 3 (ipykernel)",
   "language": "python",
   "name": "python3"
  },
  "language_info": {
   "codemirror_mode": {
    "name": "ipython",
    "version": 3
   },
   "file_extension": ".py",
   "mimetype": "text/x-python",
   "name": "python",
   "nbconvert_exporter": "python",
   "pygments_lexer": "ipython3",
   "version": "3.11.4"
  }
 },
 "nbformat": 4,
 "nbformat_minor": 5
}
