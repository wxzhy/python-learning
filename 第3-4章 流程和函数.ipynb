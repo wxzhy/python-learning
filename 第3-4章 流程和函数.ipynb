{
 "cells": [
  {
   "cell_type": "markdown",
   "id": "77e1b696fe1e568d",
   "metadata": {},
   "source": [
    "程序流程"
   ]
  },
  {
   "cell_type": "code",
   "execution_count": 8,
   "id": "initial_id",
   "metadata": {
    "collapsed": true,
    "ExecuteTime": {
     "end_time": "2023-09-15T06:50:01.680404800Z",
     "start_time": "2023-09-15T06:49:59.049827100Z"
    }
   },
   "outputs": [
    {
     "name": "stdout",
     "output_type": "stream",
     "text": [
      "圆的周长为:50.265\n",
      "圆的面积为:201.062\n"
     ]
    }
   ],
   "source": [
    "import math\n",
    "\n",
    "r = float(input(\"输入圆的半径r:\"))\n",
    "l = 2 * math.pi * r\n",
    "s = math.pi * r * r\n",
    "print(\"圆的周长为:%.3f\" % l)\n",
    "print(\"圆的面积为:%.3f\" % s)"
   ]
  },
  {
   "cell_type": "markdown",
   "id": "a3b7f00165f1a767",
   "metadata": {},
   "source": [
    "选择结构\n",
    "单分支"
   ]
  },
  {
   "cell_type": "code",
   "execution_count": 9,
   "id": "8f95bddc2dae2852",
   "metadata": {
    "ExecuteTime": {
     "end_time": "2023-09-15T06:50:03.189283900Z",
     "start_time": "2023-09-15T06:50:00.972940200Z"
    }
   },
   "outputs": [
    {
     "name": "stdout",
     "output_type": "stream",
     "text": [
      "表达式的值为:-983.64\n"
     ]
    }
   ],
   "source": [
    "import math\n",
    "\n",
    "x = float(input(\"输入x:\"))\n",
    "if x >= 0:\n",
    "    y = math.sin(x) + 2 * math.sqrt(x + math.exp(4)) - math.pow(x + 1, 3)\n",
    "if x < 0:\n",
    "    y = math.log(-5 * x) - math.fabs(x * x - 8 * x) + math.e\n",
    "print(\"表达式的值为:%.2f\" % y)"
   ]
  },
  {
   "cell_type": "markdown",
   "id": "61d8575e037dda57",
   "metadata": {},
   "source": [
    "双分支"
   ]
  },
  {
   "cell_type": "code",
   "execution_count": 10,
   "id": "ec17512611db4a6",
   "metadata": {
    "ExecuteTime": {
     "end_time": "2023-09-15T06:50:04.286293800Z",
     "start_time": "2023-09-15T06:50:03.130304700Z"
    }
   },
   "outputs": [
    {
     "name": "stdout",
     "output_type": "stream",
     "text": [
      "表达式的值为:-983.64\n"
     ]
    }
   ],
   "source": [
    "import math\n",
    "\n",
    "x = float(input(\"输入x:\"))\n",
    "if x >= 0:\n",
    "    y = math.sin(x) + 2 * math.sqrt(x + math.exp(4)) - math.pow(x + 1, 3)\n",
    "else:\n",
    "    y = math.log(-5 * x) - math.fabs(x * x - 8 * x) + math.e\n",
    "print(\"表达式的值为:%.2f\" % y)"
   ]
  },
  {
   "cell_type": "markdown",
   "id": "a1c40afd4a1d7092",
   "metadata": {},
   "source": [
    "多分支"
   ]
  },
  {
   "cell_type": "code",
   "execution_count": 11,
   "id": "94d3b5a676c43979",
   "metadata": {
    "ExecuteTime": {
     "end_time": "2023-09-15T06:50:05.007156200Z",
     "start_time": "2023-09-15T06:50:04.214173400Z"
    }
   },
   "outputs": [
    {
     "name": "stdout",
     "output_type": "stream",
     "text": [
      "该学生的成绩等级为:不及格\n"
     ]
    }
   ],
   "source": [
    "score = float(input(\"请输入分数:\"))\n",
    "if score >= 90:\n",
    "    level = \"优\"\n",
    "elif score >= 80:\n",
    "    level = \"良\"\n",
    "elif score >= 70:\n",
    "    level = \"中\"\n",
    "elif score >= 60:\n",
    "    level = \"及格\"\n",
    "else:\n",
    "    level = \"不及格\"\n",
    "print(\"该学生的成绩等级为:%s\" % level)"
   ]
  },
  {
   "cell_type": "markdown",
   "id": "b096b08a19caeaa5",
   "metadata": {},
   "source": [
    "循环遍历"
   ]
  },
  {
   "cell_type": "code",
   "execution_count": 12,
   "id": "12fa595d1c520a32",
   "metadata": {
    "ExecuteTime": {
     "end_time": "2023-09-15T06:50:08.990813200Z",
     "start_time": "2023-09-15T06:50:04.958400400Z"
    }
   },
   "outputs": [
    {
     "name": "stdout",
     "output_type": "stream",
     "text": [
      "该学生的平均成绩为:1.00\n",
      "该学生的平均成绩为:1.00\n",
      "该学生的平均成绩为:1.00\n"
     ]
    }
   ],
   "source": [
    "# for i in range(30):\n",
    "for i in range(3):\n",
    "    s1 = float(input(\"请输入语文成绩\"))\n",
    "    s2 = float(input(\"请输入数学成绩\"))\n",
    "    s3 = float(input(\"请输入英语成绩\"))\n",
    "    average = (s1 + s2 + s3) / 3\n",
    "    print(\"该学生的平均成绩为:%.2f\" % average)"
   ]
  },
  {
   "cell_type": "markdown",
   "id": "df18ed900855f52e",
   "metadata": {},
   "source": [
    "特定次循环遍历"
   ]
  },
  {
   "cell_type": "code",
   "execution_count": 13,
   "id": "b7e0417a13a6990",
   "metadata": {
    "ExecuteTime": {
     "end_time": "2023-09-15T06:50:10.028504800Z",
     "start_time": "2023-09-15T06:50:08.981910900Z"
    }
   },
   "outputs": [
    {
     "name": "stdout",
     "output_type": "stream",
     "text": [
      "学号为1的平均成绩为:1.00\n"
     ]
    }
   ],
   "source": [
    "# for i in range(1, 30, 2):\n",
    "for i in range(1, 3, 2):\n",
    "    s1 = float(input(\"请输入语文成绩\"))\n",
    "    s2 = float(input(\"请输入数学成绩\"))\n",
    "    s3 = float(input(\"请输入英语成绩\"))\n",
    "    average = (s1 + s2 + s3) / 3\n",
    "    print(\"学号为%d的平均成绩为:%.2f\" % (i, average))"
   ]
  },
  {
   "cell_type": "markdown",
   "id": "5210d01c8ca6b25",
   "metadata": {},
   "source": [
    "字符串遍历"
   ]
  },
  {
   "cell_type": "code",
   "execution_count": 14,
   "id": "d4a58658826670a4",
   "metadata": {
    "ExecuteTime": {
     "end_time": "2023-09-15T06:50:10.028504800Z",
     "start_time": "2023-09-15T06:50:10.020715500Z"
    }
   },
   "outputs": [
    {
     "name": "stdout",
     "output_type": "stream",
     "text": [
      "P y t h o n 1 2 3 "
     ]
    }
   ],
   "source": [
    "for c in \"Python123\":\n",
    "    print(c, end=\" \")"
   ]
  },
  {
   "cell_type": "markdown",
   "id": "1d79d3965e6e58f9",
   "metadata": {},
   "source": [
    "列表遍历"
   ]
  },
  {
   "cell_type": "code",
   "execution_count": 15,
   "id": "8d3c5a72264da2df",
   "metadata": {
    "ExecuteTime": {
     "end_time": "2023-09-15T06:50:10.033298900Z",
     "start_time": "2023-09-15T06:50:10.027762800Z"
    }
   },
   "outputs": [
    {
     "name": "stdout",
     "output_type": "stream",
     "text": [
      "123 PY 456 "
     ]
    }
   ],
   "source": [
    "for item in [123, \"PY\", 456]:\n",
    "    print(item, end=\" \")"
   ]
  },
  {
   "cell_type": "markdown",
   "id": "abcf5a6b9900807e",
   "metadata": {},
   "source": [
    "无限循环"
   ]
  },
  {
   "cell_type": "code",
   "execution_count": 16,
   "id": "a60d118adb6b39e1",
   "metadata": {
    "ExecuteTime": {
     "end_time": "2023-09-15T06:50:13.224398600Z",
     "start_time": "2023-09-15T06:50:10.033298900Z"
    }
   },
   "outputs": [
    {
     "name": "stdout",
     "output_type": "stream",
     "text": [
      "平均成绩为:1.00\n",
      "平均成绩为:1.00\n",
      "平均成绩为:1.00\n"
     ]
    }
   ],
   "source": [
    "# N = 30\n",
    "N = 3\n",
    "while N > 0:\n",
    "    s1 = float(input(\"请输入语文成绩\"))\n",
    "    s2 = float(input(\"请输入数学成绩\"))\n",
    "    s3 = float(input(\"请输入英语成绩\"))\n",
    "    average = (s1 + s2 + s3) / 3\n",
    "    print(\"平均成绩为:%.2f\" % average)\n",
    "    N = N - 1"
   ]
  },
  {
   "cell_type": "markdown",
   "id": "a7afeac6d434c294",
   "metadata": {},
   "source": [
    "continue结束当次循环"
   ]
  },
  {
   "cell_type": "code",
   "execution_count": 17,
   "id": "13f077a705a0eef6",
   "metadata": {
    "ExecuteTime": {
     "end_time": "2023-09-15T06:50:13.228119Z",
     "start_time": "2023-09-15T06:50:13.213847200Z"
    }
   },
   "outputs": [
    {
     "name": "stdout",
     "output_type": "stream",
     "text": [
      "P Y H O N "
     ]
    }
   ],
   "source": [
    "for c in \"PYTHON\":\n",
    "    if c == 'T':\n",
    "        continue\n",
    "    print(c, end=\" \")"
   ]
  },
  {
   "cell_type": "markdown",
   "id": "22bd7aff30b73762",
   "metadata": {},
   "source": [
    "break结束整个循环"
   ]
  },
  {
   "cell_type": "code",
   "execution_count": 18,
   "id": "145c44b2f526f9e2",
   "metadata": {
    "ExecuteTime": {
     "end_time": "2023-09-15T06:50:13.228119Z",
     "start_time": "2023-09-15T06:50:13.220144Z"
    }
   },
   "outputs": [
    {
     "name": "stdout",
     "output_type": "stream",
     "text": [
      "P Y "
     ]
    }
   ],
   "source": [
    "for c in \"PYTHON\":\n",
    "    if c == 'T':\n",
    "        break\n",
    "    print(c, end=\" \")"
   ]
  },
  {
   "cell_type": "markdown",
   "id": "93e4050e9bfd828e",
   "metadata": {},
   "source": [
    "输出4*5的矩阵"
   ]
  },
  {
   "cell_type": "code",
   "execution_count": 19,
   "id": "4e079a0a86b49457",
   "metadata": {
    "ExecuteTime": {
     "end_time": "2023-09-15T06:50:13.233287500Z",
     "start_time": "2023-09-15T06:50:13.224398600Z"
    }
   },
   "outputs": [
    {
     "name": "stdout",
     "output_type": "stream",
     "text": [
      "1 2 3 4 5 \n",
      "\n",
      "2 4 6 8 10 \n",
      "\n",
      "3 6 9 12 15 \n",
      "\n",
      "4 8 12 16 20 \n"
     ]
    }
   ],
   "source": [
    "for i in range(1, 5, 1):\n",
    "    for j in range(1, 6, 1):\n",
    "        print(i * j, end=\" \")\n",
    "        if j % 5 == 0:\n",
    "            print(\"\\n\")"
   ]
  },
  {
   "cell_type": "markdown",
   "id": "38c65375e4c8a9ed",
   "metadata": {},
   "source": [
    "循环嵌套"
   ]
  },
  {
   "cell_type": "code",
   "execution_count": 20,
   "id": "eb47a99687fae2d",
   "metadata": {
    "ExecuteTime": {
     "end_time": "2023-09-15T06:50:13.248400400Z",
     "start_time": "2023-09-15T06:50:13.228119Z"
    }
   },
   "outputs": [
    {
     "name": "stdout",
     "output_type": "stream",
     "text": [
      "P Y T H O N P Y T H O P Y T H P Y T P Y P "
     ]
    }
   ],
   "source": [
    "s = \"PYTHON\"\n",
    "while s != \"\":\n",
    "    for c in s:\n",
    "        print(c, end=\" \")\n",
    "    s = s[:-1]"
   ]
  },
  {
   "cell_type": "code",
   "execution_count": 21,
   "id": "dfd5717f369ada46",
   "metadata": {
    "ExecuteTime": {
     "end_time": "2023-09-15T06:50:13.370559400Z",
     "start_time": "2023-09-15T06:50:13.241156900Z"
    }
   },
   "outputs": [
    {
     "name": "stdout",
     "output_type": "stream",
     "text": [
      "P Y P Y P Y P Y P Y P "
     ]
    }
   ],
   "source": [
    "s = \"PYTHON\"\n",
    "while s != \"\":\n",
    "    for c in s:\n",
    "        if c == \"T\":\n",
    "            break\n",
    "        print(c, end=\" \")\n",
    "    s = s[:-1]"
   ]
  },
  {
   "cell_type": "markdown",
   "id": "636b00510c79699a",
   "metadata": {},
   "source": [
    "循环与else结合"
   ]
  },
  {
   "cell_type": "code",
   "execution_count": 22,
   "id": "5441c5f0a6be2b01",
   "metadata": {
    "ExecuteTime": {
     "end_time": "2023-09-15T06:50:13.387995200Z",
     "start_time": "2023-09-15T06:50:13.248400400Z"
    }
   },
   "outputs": [
    {
     "name": "stdout",
     "output_type": "stream",
     "text": [
      "PYHON正常退出\n"
     ]
    }
   ],
   "source": [
    "for c in \"PYTHON\":\n",
    "    if c == \"T\":\n",
    "        continue\n",
    "    print(c, end=\"\")\n",
    "else:\n",
    "    print(\"正常退出\")"
   ]
  },
  {
   "cell_type": "code",
   "execution_count": 23,
   "id": "a59610f586279a5b",
   "metadata": {
    "ExecuteTime": {
     "end_time": "2023-09-15T06:50:13.387995200Z",
     "start_time": "2023-09-15T06:50:13.256877500Z"
    }
   },
   "outputs": [
    {
     "name": "stdout",
     "output_type": "stream",
     "text": [
      "PY"
     ]
    }
   ],
   "source": [
    "for c in \"PYTHON\":\n",
    "    if c == \"T\":\n",
    "        break\n",
    "    print(c, end=\"\")\n",
    "else:\n",
    "    print(\"正常退出\")"
   ]
  },
  {
   "cell_type": "markdown",
   "id": "bc88e463f0dd3d69",
   "metadata": {},
   "source": [
    "异常处理"
   ]
  },
  {
   "cell_type": "code",
   "execution_count": 25,
   "id": "c19364dcb20e2b72",
   "metadata": {
    "ExecuteTime": {
     "end_time": "2023-09-15T06:50:41.694621900Z",
     "start_time": "2023-09-15T06:50:40.063523500Z"
    }
   },
   "outputs": [
    {
     "name": "stdout",
     "output_type": "stream",
     "text": [
      "9801\n"
     ]
    }
   ],
   "source": [
    "num = eval(input(\"请输入一个整数:\"))\n",
    "print(num ** 2)"
   ]
  },
  {
   "cell_type": "code",
   "execution_count": 26,
   "outputs": [
    {
     "name": "stdout",
     "output_type": "stream",
     "text": [
      "9801\n"
     ]
    }
   ],
   "source": [
    "try:\n",
    "    num = eval(input(\"请输入一个整数:\"))\n",
    "    print(num ** 2)\n",
    "except:\n",
    "    print(\"输入不是整数\")"
   ],
   "metadata": {
    "collapsed": false,
    "ExecuteTime": {
     "end_time": "2023-09-15T06:50:48.281547900Z",
     "start_time": "2023-09-15T06:50:46.902904800Z"
    }
   },
   "id": "19b1ebbfe68c4f0d"
  },
  {
   "cell_type": "markdown",
   "source": [
    "函数的定义"
   ],
   "metadata": {
    "collapsed": false
   },
   "id": "c861de943782ae63"
  },
  {
   "cell_type": "code",
   "execution_count": 27,
   "id": "f65173f6f289ed5e",
   "metadata": {
    "ExecuteTime": {
     "end_time": "2023-09-15T06:50:50.835091200Z",
     "start_time": "2023-09-15T06:50:50.820992400Z"
    }
   },
   "outputs": [
    {
     "name": "stdout",
     "output_type": "stream",
     "text": [
      "半径为4的圆的周长为:25.13,面积为:50.27\n",
      "半径为5的圆的周长为:31.42,面积为:78.54\n",
      "半径为6的圆的周长为:37.70,面积为:113.10\n"
     ]
    }
   ],
   "source": [
    "import math\n",
    "\n",
    "\n",
    "def circular(r):\n",
    "    p = 2 * math.pi * r\n",
    "    s = math.pi * r ** 2\n",
    "    return p, s\n",
    "\n",
    "\n",
    "if __name__ == '__main__':\n",
    "    p1, s1 = circular(4)\n",
    "    p2, s2 = circular(5)\n",
    "    p3, s3 = circular(6)\n",
    "    print(\"半径为4的圆的周长为:%.2f,面积为:%.2f\" % (p1, s1))\n",
    "    print(\"半径为5的圆的周长为:%.2f,面积为:%.2f\" % (p2, s2))\n",
    "    print(\"半径为6的圆的周长为:%.2f,面积为:%.2f\" % (p3, s3))"
   ]
  },
  {
   "cell_type": "code",
   "execution_count": 28,
   "id": "58ba5b04bb1e5202",
   "metadata": {
    "ExecuteTime": {
     "end_time": "2023-09-15T06:50:51.531148400Z",
     "start_time": "2023-09-15T06:50:51.515298800Z"
    }
   },
   "outputs": [
    {
     "data": {
      "text/plain": "150.0"
     },
     "execution_count": 28,
     "metadata": {},
     "output_type": "execute_result"
    }
   ],
   "source": [
    "#求平均值\n",
    "def average(a, b):\n",
    "    ave = (a + b) / 2\n",
    "    return ave\n",
    "\n",
    "\n",
    "average(100, 200)"
   ]
  },
  {
   "cell_type": "code",
   "execution_count": 29,
   "outputs": [
    {
     "name": "stdout",
     "output_type": "stream",
     "text": [
      "4.3727258933290996\n"
     ]
    }
   ],
   "source": [
    "#求第n阶的调和数\n",
    "def harmonic(n):\n",
    "    total = 0.0\n",
    "    for i in range(1, n + 1):\n",
    "        total += 1.0 / i\n",
    "    return total\n",
    "\n",
    "\n",
    "n = int(input())\n",
    "total = harmonic(n)\n",
    "print(total)"
   ],
   "metadata": {
    "collapsed": false,
    "ExecuteTime": {
     "end_time": "2023-09-15T06:50:53.671057200Z",
     "start_time": "2023-09-15T06:50:52.016278900Z"
    }
   },
   "id": "6f6a0470810319af"
  },
  {
   "cell_type": "markdown",
   "source": [
    "函数的参数传递\n",
    "可以有参数，也可以没有"
   ],
   "metadata": {
    "collapsed": false
   },
   "id": "7646ab470f9cf113"
  },
  {
   "cell_type": "code",
   "execution_count": 30,
   "outputs": [
    {
     "name": "stdout",
     "output_type": "stream",
     "text": [
      "150.0\n",
      "150.0\n"
     ]
    }
   ],
   "source": [
    "#求平均值\n",
    "def average(a, b):\n",
    "    ave = (a + b) / 2\n",
    "    return ave\n",
    "\n",
    "\n",
    "a = 100\n",
    "b = 200\n",
    "ave = average(a, b)\n",
    "print(ave)\n",
    "ave = average(b=200, a=100)\n",
    "print(ave)"
   ],
   "metadata": {
    "collapsed": false,
    "ExecuteTime": {
     "end_time": "2023-09-15T06:50:54.838652Z",
     "start_time": "2023-09-15T06:50:54.823917800Z"
    }
   },
   "id": "55aab6b81400a20a"
  },
  {
   "cell_type": "markdown",
   "source": [
    "计算n!//m"
   ],
   "metadata": {
    "collapsed": false
   },
   "id": "9ff92a57b64eca6a"
  },
  {
   "cell_type": "code",
   "execution_count": 31,
   "outputs": [
    {
     "name": "stdout",
     "output_type": "stream",
     "text": [
      "3628800\n",
      "725760\n"
     ]
    }
   ],
   "source": [
    "def fact(n, m=1):\n",
    "    s = 1\n",
    "    for i in range(1, n + 1):\n",
    "        s *= i\n",
    "    return s // m\n",
    "\n",
    "\n",
    "result = fact(10)\n",
    "print(result)\n",
    "result = fact(10, 5)\n",
    "print(result)"
   ],
   "metadata": {
    "collapsed": false,
    "ExecuteTime": {
     "end_time": "2023-09-15T06:50:56.013064900Z",
     "start_time": "2023-09-15T06:50:55.990945500Z"
    }
   },
   "id": "52d0d049ac280055"
  },
  {
   "cell_type": "markdown",
   "source": [
    "参数传递\n",
    "函数内部的变量无法影响函数外部的变量"
   ],
   "metadata": {
    "collapsed": false
   },
   "id": "9f5506476f65942b"
  },
  {
   "cell_type": "code",
   "execution_count": 32,
   "outputs": [
    {
     "data": {
      "text/plain": "(1, 2)"
     },
     "execution_count": 32,
     "metadata": {},
     "output_type": "execute_result"
    }
   ],
   "source": [
    "def swap(x, y):\n",
    "    x, y = y, x\n",
    "\n",
    "\n",
    "x = 1\n",
    "y = 2\n",
    "swap(x, y)\n",
    "(x, y)"
   ],
   "metadata": {
    "collapsed": false,
    "ExecuteTime": {
     "end_time": "2023-09-15T06:51:21.369244500Z",
     "start_time": "2023-09-15T06:51:21.347916100Z"
    }
   },
   "id": "3d0153b04c219941"
  },
  {
   "cell_type": "markdown",
   "source": [
    "可变参数传递"
   ],
   "metadata": {
    "collapsed": false
   },
   "id": "4da991db336b2d"
  },
  {
   "cell_type": "code",
   "execution_count": 33,
   "outputs": [
    {
     "name": "stdout",
     "output_type": "stream",
     "text": [
      "1 2\n",
      "2 1\n"
     ]
    }
   ],
   "source": [
    "def swap(x, y):\n",
    "    x, y = y, x\n",
    "    return x, y\n",
    "\n",
    "\n",
    "x = 1\n",
    "y = 2\n",
    "x1, y1 = swap(x, y)\n",
    "print(x, y)\n",
    "print(x1, y1)"
   ],
   "metadata": {
    "collapsed": false,
    "ExecuteTime": {
     "end_time": "2023-09-15T06:51:23.108272600Z",
     "start_time": "2023-09-15T06:51:23.095901500Z"
    }
   },
   "id": "2300c26b8c6281d2"
  },
  {
   "cell_type": "code",
   "execution_count": 34,
   "outputs": [
    {
     "name": "stdout",
     "output_type": "stream",
     "text": [
      "2 1\n"
     ]
    }
   ],
   "source": [
    "def swap(x, y):\n",
    "    x, y = y, x\n",
    "    return x, y\n",
    "\n",
    "\n",
    "x, y = swap(x, y)\n",
    "print(x, y)"
   ],
   "metadata": {
    "collapsed": false,
    "ExecuteTime": {
     "end_time": "2023-09-15T06:51:23.584965600Z",
     "start_time": "2023-09-15T06:51:23.554293500Z"
    }
   },
   "id": "ab98a12d9680565"
  },
  {
   "cell_type": "markdown",
   "source": [
    "可变数量参数"
   ],
   "metadata": {
    "collapsed": false
   },
   "id": "82e9c1382caa2f3c"
  },
  {
   "cell_type": "code",
   "execution_count": 35,
   "outputs": [
    {
     "name": "stdout",
     "output_type": "stream",
     "text": [
      "3628800\n",
      "10886400\n",
      "54432000\n"
     ]
    }
   ],
   "source": [
    "def fact(n, *b):\n",
    "    s = 1\n",
    "    for i in range(1, n + 1):\n",
    "        s *= i\n",
    "    for item in b:\n",
    "        s *= item\n",
    "    return s\n",
    "\n",
    "\n",
    "s = fact(10)\n",
    "print(s)\n",
    "s = fact(10, 3)\n",
    "print(s)\n",
    "s = fact(10, 3, 5)\n",
    "print(s)"
   ],
   "metadata": {
    "collapsed": false,
    "ExecuteTime": {
     "end_time": "2023-09-15T06:51:24.502268500Z",
     "start_time": "2023-09-15T06:51:24.486449Z"
    }
   },
   "id": "a39cb3d55fdea1db"
  },
  {
   "cell_type": "markdown",
   "source": [
    "函数可返回0个或多个结果"
   ],
   "metadata": {
    "collapsed": false
   },
   "id": "2a817fd32431acb"
  },
  {
   "cell_type": "code",
   "execution_count": 36,
   "outputs": [
    {
     "name": "stdout",
     "output_type": "stream",
     "text": [
      "0.4195705982586575\n",
      "0.7660134389499839\n",
      "0.8864805813694654\n",
      "0.39750474905329836\n",
      "0.9551619901398113\n"
     ]
    }
   ],
   "source": [
    "import random\n",
    "\n",
    "\n",
    "def randomarray(n):\n",
    "    a = []\n",
    "    for i in range(n):\n",
    "        a.append(random.random())\n",
    "    return a\n",
    "\n",
    "\n",
    "b = randomarray(5)\n",
    "for i in range(len(b)):\n",
    "    print(b[i])"
   ],
   "metadata": {
    "collapsed": false,
    "ExecuteTime": {
     "end_time": "2023-09-15T06:51:25.495877800Z",
     "start_time": "2023-09-15T06:51:25.487608200Z"
    }
   },
   "id": "7086c827bfd34f91"
  },
  {
   "cell_type": "markdown",
   "source": [
    "局部变量和全局变量"
   ],
   "metadata": {
    "collapsed": false
   },
   "id": "cdd0b16d0ccaa4a4"
  },
  {
   "cell_type": "code",
   "execution_count": 37,
   "outputs": [
    {
     "name": "stdout",
     "output_type": "stream",
     "text": [
      "3628800\n",
      "100\n"
     ]
    }
   ],
   "source": [
    "n, s = 10, 100\n",
    "\n",
    "\n",
    "def fact(n):\n",
    "    s = 1\n",
    "    for i in range(1, n + 1):\n",
    "        s *= i\n",
    "    return s\n",
    "\n",
    "\n",
    "print(fact(n))\n",
    "print(s)"
   ],
   "metadata": {
    "collapsed": false,
    "ExecuteTime": {
     "end_time": "2023-09-15T06:51:26.428274Z",
     "start_time": "2023-09-15T06:51:26.412038800Z"
    }
   },
   "id": "32c953c31d4795c9"
  },
  {
   "cell_type": "markdown",
   "source": [
    "全局变量使用global关键字"
   ],
   "metadata": {
    "collapsed": false
   },
   "id": "9bbf34f86a176366"
  },
  {
   "cell_type": "code",
   "execution_count": 38,
   "outputs": [
    {
     "name": "stdout",
     "output_type": "stream",
     "text": [
      "362880000\n",
      "362880000\n"
     ]
    }
   ],
   "source": [
    "n, s = 10, 100\n",
    "\n",
    "\n",
    "def fact(n):\n",
    "    global s\n",
    "    for i in range(1, n + 1):\n",
    "        s *= i\n",
    "    return s\n",
    "\n",
    "\n",
    "print(fact(n))\n",
    "print(s)"
   ],
   "metadata": {
    "collapsed": false,
    "ExecuteTime": {
     "end_time": "2023-09-15T06:51:27.209264500Z",
     "start_time": "2023-09-15T06:51:27.201751800Z"
    }
   },
   "id": "16a10c2fb9973de2"
  },
  {
   "cell_type": "markdown",
   "source": [
    "局部变量为组合数据类型且未创建，等同于全局变量"
   ],
   "metadata": {
    "collapsed": false
   },
   "id": "56abf57b8eeb1181"
  },
  {
   "cell_type": "code",
   "execution_count": 39,
   "outputs": [
    {
     "name": "stdout",
     "output_type": "stream",
     "text": [
      "['F', 'f', 'C']\n"
     ]
    }
   ],
   "source": [
    "ls = [\"F\", \"f\"]\n",
    "\n",
    "\n",
    "def func(a):\n",
    "    ls.append(a)\n",
    "    return\n",
    "\n",
    "\n",
    "func(\"C\")\n",
    "print(ls)"
   ],
   "metadata": {
    "collapsed": false,
    "ExecuteTime": {
     "end_time": "2023-09-15T06:51:28.087801700Z",
     "start_time": "2023-09-15T06:51:28.054820400Z"
    }
   },
   "id": "ab56c7fe6f8d79b7"
  },
  {
   "cell_type": "code",
   "execution_count": 40,
   "outputs": [
    {
     "name": "stdout",
     "output_type": "stream",
     "text": [
      "['F', 'f']\n"
     ]
    }
   ],
   "source": [
    "ls = [\"F\", \"f\"]\n",
    "\n",
    "\n",
    "def func(a):\n",
    "    ls = []\n",
    "    ls.append(a)\n",
    "    return\n",
    "\n",
    "\n",
    "func(\"C\")\n",
    "print(ls)"
   ],
   "metadata": {
    "collapsed": false,
    "ExecuteTime": {
     "end_time": "2023-09-15T06:51:28.555238700Z",
     "start_time": "2023-09-15T06:51:28.525594500Z"
    }
   },
   "id": "22740609afbd3d9f"
  },
  {
   "cell_type": "markdown",
   "source": [
    "lambda函数"
   ],
   "metadata": {
    "collapsed": false
   },
   "id": "57b750b9a469fc18"
  },
  {
   "cell_type": "code",
   "execution_count": 41,
   "outputs": [
    {
     "name": "stdout",
     "output_type": "stream",
     "text": [
      "25\n"
     ]
    }
   ],
   "source": [
    "f = lambda x, y: x + y\n",
    "results = f(10, 15)\n",
    "print(results)"
   ],
   "metadata": {
    "collapsed": false,
    "ExecuteTime": {
     "end_time": "2023-09-15T06:51:29.594828600Z",
     "start_time": "2023-09-15T06:51:29.575683600Z"
    }
   },
   "id": "a775ed9cdf7face2"
  },
  {
   "cell_type": "markdown",
   "source": [
    "递归函数"
   ],
   "metadata": {
    "collapsed": false
   },
   "id": "1d76c5fdc3e4faa"
  },
  {
   "cell_type": "code",
   "execution_count": 42,
   "outputs": [
    {
     "name": "stdout",
     "output_type": "stream",
     "text": [
      "24\n"
     ]
    }
   ],
   "source": [
    "def factorial(n):\n",
    "    if n == 1:\n",
    "        return 1\n",
    "    else:\n",
    "        return n * factorial(n - 1)\n",
    "\n",
    "\n",
    "results = factorial(4)\n",
    "print(results)"
   ],
   "metadata": {
    "collapsed": false,
    "ExecuteTime": {
     "end_time": "2023-09-15T06:51:30.940226Z",
     "start_time": "2023-09-15T06:51:30.913950400Z"
    }
   },
   "id": "d13b41885dcfc067"
  },
  {
   "cell_type": "code",
   "execution_count": 43,
   "outputs": [
    {
     "name": "stdout",
     "output_type": "stream",
     "text": [
      "8\n"
     ]
    }
   ],
   "source": [
    "def f(n):\n",
    "    s = 1\n",
    "    if n == 1:\n",
    "        s = 1\n",
    "    elif n == 2:\n",
    "        s = 2\n",
    "    else:\n",
    "        s = f(n - 1) + f(n - 2)\n",
    "    return s\n",
    "\n",
    "\n",
    "results = f(5)\n",
    "print(results)"
   ],
   "metadata": {
    "collapsed": false,
    "ExecuteTime": {
     "end_time": "2023-09-15T06:51:31.043049700Z",
     "start_time": "2023-09-15T06:51:30.940226Z"
    }
   },
   "id": "152ece0951e183e"
  },
  {
   "cell_type": "markdown",
   "source": [
    "集合类型"
   ],
   "metadata": {
    "collapsed": false
   },
   "id": "d475b02a92639166"
  },
  {
   "cell_type": "code",
   "execution_count": 44,
   "outputs": [
    {
     "name": "stdout",
     "output_type": "stream",
     "text": [
      "{'Python', 'Gong', 'Lina'}\n"
     ]
    }
   ],
   "source": [
    "A = {'Python', 'Lina', 'Gong'}\n",
    "print(A)"
   ],
   "metadata": {
    "collapsed": false,
    "ExecuteTime": {
     "end_time": "2023-09-15T06:51:31.111225Z",
     "start_time": "2023-09-15T06:51:31.043049700Z"
    }
   },
   "id": "3223da08752f644"
  },
  {
   "cell_type": "code",
   "execution_count": 45,
   "outputs": [
    {
     "name": "stdout",
     "output_type": "stream",
     "text": [
      "{'Y', 'P', '1', '2'}\n"
     ]
    }
   ],
   "source": [
    "B = set(\"PYPY1122\")\n",
    "print(B)"
   ],
   "metadata": {
    "collapsed": false,
    "ExecuteTime": {
     "end_time": "2023-09-15T06:51:31.441395700Z",
     "start_time": "2023-09-15T06:51:31.076483100Z"
    }
   },
   "id": "cdd3c974ec7d2726"
  },
  {
   "cell_type": "code",
   "execution_count": 46,
   "outputs": [
    {
     "name": "stdout",
     "output_type": "stream",
     "text": [
      "<class 'set'>\n",
      "<class 'dict'>\n"
     ]
    }
   ],
   "source": [
    "B = set()\n",
    "print(type(B))\n",
    "b = {}\n",
    "print(type(b))"
   ],
   "metadata": {
    "collapsed": false,
    "ExecuteTime": {
     "end_time": "2023-09-15T06:51:31.724526100Z",
     "start_time": "2023-09-15T06:51:31.093873200Z"
    }
   },
   "id": "86c4835c09ff1d93"
  },
  {
   "cell_type": "markdown",
   "source": [
    "集合操作符"
   ],
   "metadata": {
    "collapsed": false
   },
   "id": "d22770d1d3b0566d"
  },
  {
   "cell_type": "code",
   "execution_count": 47,
   "outputs": [
    {
     "name": "stdout",
     "output_type": "stream",
     "text": [
      "{'Python', 'Gong', 'Ma', 'Suchun', 'Lina'}\n",
      "{'Python'}\n",
      "{'Gong', 'Lina'}\n",
      "{'Gong', 'Ma', 'Suchun', 'Lina'}\n",
      "False\n"
     ]
    }
   ],
   "source": [
    "S = {\"Python\", \"Lina\", \"Gong\"}\n",
    "T = {\"Python\", \"Suchun\", \"Ma\"}\n",
    "print(S | T)\n",
    "print(S & T)\n",
    "print(S - T)\n",
    "print(S ^ T)\n",
    "print(S <= T)"
   ],
   "metadata": {
    "collapsed": false,
    "ExecuteTime": {
     "end_time": "2023-09-15T06:51:31.819222700Z",
     "start_time": "2023-09-15T06:51:31.154811900Z"
    }
   },
   "id": "9098709fcdc958e"
  },
  {
   "cell_type": "markdown",
   "source": [
    "增强操作符"
   ],
   "metadata": {
    "collapsed": false
   },
   "id": "a33e1a1ae2bb669b"
  },
  {
   "cell_type": "code",
   "execution_count": 48,
   "outputs": [
    {
     "name": "stdout",
     "output_type": "stream",
     "text": [
      "{'Python', 'Gong', 'Ma', 'Suchun', 'Lina'}\n",
      "{'Gong', 'Lina'}\n",
      "{'Python'}\n",
      "{'Gong', 'Ma', 'Suchun', 'Lina'}\n"
     ]
    }
   ],
   "source": [
    "S = {\"Python\", \"Lina\", \"Gong\"}\n",
    "T = {\"Python\", \"Suchun\", \"Ma\"}\n",
    "S |= T\n",
    "print(S)\n",
    "S = {\"Python\", \"Lina\", \"Gong\"}\n",
    "T = {\"Python\", \"Suchun\", \"Ma\"}\n",
    "S -= T\n",
    "print(S)\n",
    "S = {\"Python\", \"Lina\", \"Gong\"}\n",
    "T = {\"Python\", \"Suchun\", \"Ma\"}\n",
    "S &= T\n",
    "print(S)\n",
    "S = {\"Python\", \"Lina\", \"Gong\"}\n",
    "T = {\"Python\", \"Suchun\", \"Ma\"}\n",
    "S ^= T\n",
    "print(S)"
   ],
   "metadata": {
    "collapsed": false,
    "ExecuteTime": {
     "end_time": "2023-09-15T06:51:31.913609800Z",
     "start_time": "2023-09-15T06:51:31.254403300Z"
    }
   },
   "id": "b31179a837064832"
  },
  {
   "cell_type": "markdown",
   "source": [
    "集合处理方法"
   ],
   "metadata": {
    "collapsed": false
   },
   "id": "fe3bcd8b1d878c43"
  },
  {
   "cell_type": "code",
   "execution_count": 49,
   "outputs": [
    {
     "name": "stdout",
     "output_type": "stream",
     "text": [
      "{'Gong', 'Lina'}\n",
      "{'Gong', 'Ma', 'Suchun', 'Lina'}\n",
      "{'Gong', 'Ma', 'Suchun', 'Lina'}\n",
      "{'Gong', 'Ma', 'Suchun', 'Lina'}\n"
     ]
    }
   ],
   "source": [
    "S = {\"Lina\", \"Gong\"}\n",
    "print(S)\n",
    "S.add(\"Ma\")\n",
    "S.add(\"Suchun\")\n",
    "print(S)\n",
    "#移除元素，元素不在集合中，不报错\n",
    "S.discard(\"Li\")\n",
    "print(S)\n",
    "#元素不在集合中，会报错\n",
    "# S.remove(\"Zhao\")\n",
    "print(S)\n"
   ],
   "metadata": {
    "collapsed": false,
    "ExecuteTime": {
     "end_time": "2023-09-15T06:51:32.087267900Z",
     "start_time": "2023-09-15T06:51:31.297864700Z"
    }
   },
   "id": "e4e6163f1190f3fc"
  },
  {
   "cell_type": "code",
   "execution_count": 50,
   "outputs": [
    {
     "name": "stdout",
     "output_type": "stream",
     "text": [
      "Gong Ma Suchun Zixi Lina "
     ]
    }
   ],
   "source": [
    "S = {\"Lina\", \"Gong\"}\n",
    "S.add(\"Ma\")\n",
    "S.add(\"Suchun\")\n",
    "S.add(\"Zixi\")\n",
    "for item in S:\n",
    "    print(item, end=\" \")"
   ],
   "metadata": {
    "collapsed": false,
    "ExecuteTime": {
     "end_time": "2023-09-15T06:51:32.229275800Z",
     "start_time": "2023-09-15T06:51:31.323737700Z"
    }
   },
   "id": "6e0041ba5eaa64a4"
  },
  {
   "cell_type": "markdown",
   "source": [
    "包含关系"
   ],
   "metadata": {
    "collapsed": false
   },
   "id": "de9d4324ca7fea03"
  },
  {
   "cell_type": "code",
   "execution_count": 51,
   "outputs": [
    {
     "name": "stdout",
     "output_type": "stream",
     "text": [
      "True\n",
      "False\n"
     ]
    }
   ],
   "source": [
    "print(\"Gong\" in {\"Python\", \"Gong\"})\n",
    "print({\"Li\"} >= {\"Gong\"})"
   ],
   "metadata": {
    "collapsed": false,
    "ExecuteTime": {
     "end_time": "2023-09-15T06:51:32.386588200Z",
     "start_time": "2023-09-15T06:51:31.385503700Z"
    }
   },
   "id": "29285c01bc779c97"
  },
  {
   "cell_type": "markdown",
   "source": [
    "数据去重"
   ],
   "metadata": {
    "collapsed": false
   },
   "id": "d6b5be9a07463796"
  },
  {
   "cell_type": "code",
   "execution_count": 52,
   "outputs": [
    {
     "name": "stdout",
     "output_type": "stream",
     "text": [
      "{'Python', 'Gong', 'Ma', 'Suchun', 'Zixi', 'Lina'}\n"
     ]
    }
   ],
   "source": [
    "ls = {\"Python\", \"Lina\", \"Gong\", \"Ma\", \"Suchun\", \"Ma\", \"Zixi\"}\n",
    "S = set(ls)\n",
    "print(S)"
   ],
   "metadata": {
    "collapsed": false,
    "ExecuteTime": {
     "end_time": "2023-09-15T06:51:32.621446600Z",
     "start_time": "2023-09-15T06:51:31.483736100Z"
    }
   },
   "id": "6c49198ff8bb5d88"
  },
  {
   "cell_type": "markdown",
   "source": [
    "序列\n",
    "扁平序列"
   ],
   "metadata": {
    "collapsed": false
   },
   "id": "3d6d439038cd4688"
  },
  {
   "cell_type": "code",
   "execution_count": 53,
   "outputs": [
    {
     "data": {
      "text/plain": "'abc'"
     },
     "execution_count": 53,
     "metadata": {},
     "output_type": "execute_result"
    }
   ],
   "source": [
    "a = \"abc\"\n",
    "a"
   ],
   "metadata": {
    "collapsed": false,
    "ExecuteTime": {
     "end_time": "2023-09-15T06:51:32.953938300Z",
     "start_time": "2023-09-15T06:51:31.583994100Z"
    }
   },
   "id": "1184dbce40b8a807"
  },
  {
   "cell_type": "markdown",
   "source": [
    "容器序列"
   ],
   "metadata": {
    "collapsed": false
   },
   "id": "ff9bd6739686c298"
  },
  {
   "cell_type": "code",
   "execution_count": 54,
   "outputs": [
    {
     "data": {
      "text/plain": "[1, 'a', [5, 6, 'n']]"
     },
     "execution_count": 54,
     "metadata": {},
     "output_type": "execute_result"
    }
   ],
   "source": [
    "a = [1, 'a', [5, 6, 'n']]\n",
    "a"
   ],
   "metadata": {
    "collapsed": false,
    "ExecuteTime": {
     "end_time": "2023-09-15T06:51:33.478114100Z",
     "start_time": "2023-09-15T06:51:31.638256300Z"
    }
   },
   "id": "905ed4f532ff0a25"
  },
  {
   "cell_type": "markdown",
   "source": [
    "可变序列，如list"
   ],
   "metadata": {
    "collapsed": false
   },
   "id": "e0c88f429232b548"
  },
  {
   "cell_type": "code",
   "execution_count": 55,
   "outputs": [
    {
     "name": "stdout",
     "output_type": "stream",
     "text": [
      "2642197678272\n",
      "2642197678272\n"
     ]
    }
   ],
   "source": [
    "b = [1, 2, 3]\n",
    "print(id(b))\n",
    "b.append(6)\n",
    "print(id(b))"
   ],
   "metadata": {
    "collapsed": false,
    "ExecuteTime": {
     "end_time": "2023-09-15T06:51:33.558144600Z",
     "start_time": "2023-09-15T06:51:31.692610300Z"
    }
   },
   "id": "63af62f542940ba7"
  },
  {
   "cell_type": "markdown",
   "source": [
    "不可变序列，如str,tuple"
   ],
   "metadata": {
    "collapsed": false
   },
   "id": "9107c1b65c9179f6"
  },
  {
   "cell_type": "code",
   "execution_count": 56,
   "outputs": [
    {
     "name": "stdout",
     "output_type": "stream",
     "text": [
      "140732995157120\n",
      "2642135223600\n"
     ]
    }
   ],
   "source": [
    "a = \"1\"\n",
    "print(id(a))\n",
    "a = \"11\"\n",
    "print(id(a))"
   ],
   "metadata": {
    "collapsed": false,
    "ExecuteTime": {
     "end_time": "2023-09-15T06:51:33.567768300Z",
     "start_time": "2023-09-15T06:51:31.740690500Z"
    }
   },
   "id": "b0d7ea2afa2928a7"
  },
  {
   "cell_type": "markdown",
   "source": [
    "序列操作符"
   ],
   "metadata": {
    "collapsed": false
   },
   "id": "d170c3205a524cff"
  },
  {
   "cell_type": "code",
   "execution_count": 57,
   "outputs": [
    {
     "name": "stdout",
     "output_type": "stream",
     "text": [
      "['.io', 11, 'Python']\n",
      "oi.11nohtyp\n"
     ]
    }
   ],
   "source": [
    "ls = [\"Python\", 11, \".io\"]\n",
    "print(ls[::-1])  #顺序取反操作\n",
    "s = \"python11.io\"\n",
    "print(s[::-1])"
   ],
   "metadata": {
    "collapsed": false,
    "ExecuteTime": {
     "end_time": "2023-09-15T06:51:33.573368600Z",
     "start_time": "2023-09-15T06:51:31.799328Z"
    }
   },
   "id": "bac95cd76f931eb6"
  },
  {
   "cell_type": "code",
   "execution_count": 58,
   "outputs": [
    {
     "name": "stdout",
     "output_type": "stream",
     "text": [
      "['Python', 11, '.io', 'Python', 11, '.io', 'Python', 11, '.io']\n"
     ]
    }
   ],
   "source": [
    "ls = [\"Python\", 11, \".io\"]\n",
    "print(ls * 3)"
   ],
   "metadata": {
    "collapsed": false,
    "ExecuteTime": {
     "end_time": "2023-09-15T06:51:33.606349200Z",
     "start_time": "2023-09-15T06:51:31.808116900Z"
    }
   },
   "id": "87ff6a33dfddbf9f"
  },
  {
   "cell_type": "markdown",
   "source": [
    "序列通用函数"
   ],
   "metadata": {
    "collapsed": false
   },
   "id": "224808c97effcfdf"
  },
  {
   "cell_type": "code",
   "execution_count": 59,
   "outputs": [
    {
     "name": "stdout",
     "output_type": "stream",
     "text": [
      "3\n",
      ".io\n",
      "Python\n",
      "0\n",
      "1\n"
     ]
    }
   ],
   "source": [
    "ls = [\"Python\", \"11\", \".io\"]\n",
    "print(len(ls))\n",
    "print(min(ls))\n",
    "print(max(ls))\n",
    "print(ls.index(\"Python\"))\n",
    "print(ls.count(\"Python\"))"
   ],
   "metadata": {
    "collapsed": false,
    "ExecuteTime": {
     "end_time": "2023-09-15T06:51:33.620390Z",
     "start_time": "2023-09-15T06:51:31.866610100Z"
    }
   },
   "id": "ea4c3fa4bd40b32f"
  },
  {
   "cell_type": "markdown",
   "source": [
    "元组类型"
   ],
   "metadata": {
    "collapsed": false
   },
   "id": "3a1196b54fa158ea"
  },
  {
   "cell_type": "code",
   "execution_count": 60,
   "outputs": [
    {
     "name": "stdout",
     "output_type": "stream",
     "text": [
      "() ('a', 'b', 'c') (1, 1, 1) (0, 1, 2)\n"
     ]
    }
   ],
   "source": [
    "t1 = tuple()\n",
    "t2 = tuple(\"abc\")\n",
    "t3 = tuple([1, 1, 1])\n",
    "t4 = tuple(range(3))\n",
    "print(t1, t2, t3, t4)"
   ],
   "metadata": {
    "collapsed": false,
    "ExecuteTime": {
     "end_time": "2023-09-15T06:51:33.636037100Z",
     "start_time": "2023-09-15T06:51:32.007757100Z"
    }
   },
   "id": "9c19f29082b4282a"
  },
  {
   "cell_type": "markdown",
   "source": [
    "可以使用或不使用小括号"
   ],
   "metadata": {
    "collapsed": false
   },
   "id": "e01f72b01767d34c"
  },
  {
   "cell_type": "code",
   "execution_count": 61,
   "outputs": [
    {
     "name": "stdout",
     "output_type": "stream",
     "text": [
      "('human', 'tiger', 'dog', 'cat')\n",
      "tiger\n"
     ]
    }
   ],
   "source": [
    "creature = \"cat\", \"dog\", \"tiger\", \"human\"\n",
    "print(creature[::-1])\n",
    "color = (\"blue\", creature)\n",
    "print(color[-1][2])  #读取倒数第一个元素"
   ],
   "metadata": {
    "collapsed": false,
    "ExecuteTime": {
     "end_time": "2023-09-15T06:51:33.888389800Z",
     "start_time": "2023-09-15T06:51:32.071885800Z"
    }
   },
   "id": "d061de3be7598b08"
  },
  {
   "cell_type": "markdown",
   "source": [
    "列表类型"
   ],
   "metadata": {
    "collapsed": false
   },
   "id": "6a52ba3608669e90"
  },
  {
   "cell_type": "code",
   "execution_count": 62,
   "outputs": [
    {
     "name": "stdout",
     "output_type": "stream",
     "text": [
      "['cat', 'dog', 'tiger']\n",
      "['cat', 'dog', 'tiger']\n"
     ]
    }
   ],
   "source": [
    "ls = [\"cat\", \"dog\", \"tiger\"]\n",
    "print(ls)\n",
    "lt = ls\n",
    "print(lt)"
   ],
   "metadata": {
    "collapsed": false,
    "ExecuteTime": {
     "end_time": "2023-09-15T06:51:33.888389800Z",
     "start_time": "2023-09-15T06:51:32.135867900Z"
    }
   },
   "id": "22ed8a7a47478edd"
  },
  {
   "cell_type": "code",
   "execution_count": 63,
   "outputs": [
    {
     "name": "stdout",
     "output_type": "stream",
     "text": [
      "['cat', 1, 2, 3, 'tiger']\n",
      "[1, 2, 'tiger']\n",
      "[1, 2, 'tiger', 1, 2, 'tiger']\n"
     ]
    }
   ],
   "source": [
    "ls = [\"cat\", \"dog\", \"tiger\"]\n",
    "ls[1:2] = [1, 2, 3]\n",
    "print(ls)\n",
    "del ls[::3]\n",
    "print(ls)\n",
    "print(ls * 2)"
   ],
   "metadata": {
    "collapsed": false,
    "ExecuteTime": {
     "end_time": "2023-09-15T06:51:33.914043200Z",
     "start_time": "2023-09-15T06:51:32.135867900Z"
    }
   },
   "id": "fad483a7038e7291"
  },
  {
   "cell_type": "markdown",
   "source": [
    "列表操作函数"
   ],
   "metadata": {
    "collapsed": false
   },
   "id": "2377ba40c76c9bde"
  },
  {
   "cell_type": "code",
   "execution_count": 64,
   "outputs": [
    {
     "name": "stdout",
     "output_type": "stream",
     "text": [
      "['dragon', 'cat', 'dog', 'tiger']\n",
      "['dragon', 'cat', 'dog', 'tiger', 'human', '胜太']\n"
     ]
    }
   ],
   "source": [
    "ls = [\"dragon\", \"cat\", \"dog\"]\n",
    "ls.append(\"tiger\")\n",
    "print(ls)\n",
    "ls.insert(4, \"human\")  #插入\n",
    "ls.insert(5, \"胜太\")\n",
    "print(ls)"
   ],
   "metadata": {
    "collapsed": false,
    "ExecuteTime": {
     "end_time": "2023-09-15T06:51:33.921480400Z",
     "start_time": "2023-09-15T06:51:32.181932700Z"
    }
   },
   "id": "f0531898fa37e65c"
  },
  {
   "cell_type": "markdown",
   "source": [
    "元组和列表可相互转换"
   ],
   "metadata": {
    "collapsed": false
   },
   "id": "e2154f25b5d12b72"
  },
  {
   "cell_type": "code",
   "execution_count": 65,
   "outputs": [
    {
     "name": "stdout",
     "output_type": "stream",
     "text": [
      "['dragon', 'cat', 'dog', 'Tiger', 'Human']\n",
      "('dragon', 'cat', 'dog', 'Tiger', 'Human')\n"
     ]
    }
   ],
   "source": [
    "ls = [\"dragon\", \"cat\", \"dog\", \"Tiger\", \"Human\"]\n",
    "print(ls)\n",
    "lt = tuple(ls)\n",
    "print(lt)"
   ],
   "metadata": {
    "collapsed": false,
    "ExecuteTime": {
     "end_time": "2023-09-15T06:51:33.942952600Z",
     "start_time": "2023-09-15T06:51:32.245001700Z"
    }
   },
   "id": "6573b81a78473c65"
  },
  {
   "cell_type": "markdown",
   "source": [
    "字典类型"
   ],
   "metadata": {
    "collapsed": false
   },
   "id": "3238fbb4cf30278e"
  },
  {
   "cell_type": "code",
   "execution_count": 66,
   "outputs": [
    {
     "name": "stdout",
     "output_type": "stream",
     "text": [
      "{'中国': '北京', '美国': '华盛顿', '德国': '柏林'}\n",
      "北京\n",
      "{'中国': '北京', '美国': '华盛顿', '德国': '柏林', '法国': '巴黎'}\n",
      "False\n",
      "dict_keys(['中国', '美国', '德国', '法国'])\n",
      "dict_values(['北京', '华盛顿', '柏林', '巴黎'])\n",
      "dict_items([('中国', '北京'), ('美国', '华盛顿'), ('德国', '柏林'), ('法国', '巴黎')])\n"
     ]
    }
   ],
   "source": [
    "d = {\"中国\": \"北京\", \"美国\": \"华盛顿\", \"德国\": \"柏林\"}\n",
    "print(d)\n",
    "print(d[\"中国\"])\n",
    "d[\"法国\"] = \"巴黎\"\n",
    "print(d)\n",
    "print(\"印度\" in d)\n",
    "print(d.keys())\n",
    "print(d.values())\n",
    "print(d.items())"
   ],
   "metadata": {
    "collapsed": false,
    "ExecuteTime": {
     "end_time": "2023-09-15T06:51:33.951459400Z",
     "start_time": "2023-09-15T06:51:32.302882400Z"
    }
   },
   "id": "fdbc3e75402d434e"
  },
  {
   "cell_type": "markdown",
   "source": [
    "字典操作函数"
   ],
   "metadata": {
    "collapsed": false
   },
   "id": "6a98c28181437a9b"
  },
  {
   "cell_type": "code",
   "execution_count": 67,
   "outputs": [
    {
     "name": "stdout",
     "output_type": "stream",
     "text": [
      "北京\n",
      "渥太华\n",
      "('德国', '柏林')\n"
     ]
    }
   ],
   "source": [
    "d = {\"中国\": \"北京\", \"美国\": \"华盛顿\", \"德国\": \"柏林\"}\n",
    "capital = d.get(\"中国\")\n",
    "print(capital)\n",
    "capital = d.get(\"加拿大\", \"渥太华\")\n",
    "print(capital)\n",
    "print(d.popitem())"
   ],
   "metadata": {
    "collapsed": false,
    "ExecuteTime": {
     "end_time": "2023-09-15T06:51:33.951459400Z",
     "start_time": "2023-09-15T06:51:32.355234500Z"
    }
   },
   "id": "13dd23e935308291"
  }
 ],
 "metadata": {
  "kernelspec": {
   "display_name": "Python 3 (ipykernel)",
   "language": "python",
   "name": "python3"
  },
  "language_info": {
   "codemirror_mode": {
    "name": "ipython",
    "version": 3
   },
   "file_extension": ".py",
   "mimetype": "text/x-python",
   "name": "python",
   "nbconvert_exporter": "python",
   "pygments_lexer": "ipython3",
   "version": "3.11.4"
  }
 },
 "nbformat": 4,
 "nbformat_minor": 5
}
