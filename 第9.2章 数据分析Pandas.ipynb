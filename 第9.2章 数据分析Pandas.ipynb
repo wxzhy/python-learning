{
 "cells": [
  {
   "cell_type": "markdown",
   "id": "91e83363d531fa93",
   "metadata": {},
   "source": [
    "Series: Series 是一种一维数组对象，包含了一个值序列，并且包含了数据标签，称为索引（index），可通过索引来访问数组中的数据。  \n",
    "`pd.Series(data=None, index=None, dtype=None, name=None, copy=False, fastpath=False)`"
   ]
  },
  {
   "cell_type": "code",
   "execution_count": 1,
   "id": "initial_id",
   "metadata": {
    "ExecuteTime": {
     "end_time": "2023-10-23T13:30:45.413796400Z",
     "start_time": "2023-10-23T13:30:43.738268200Z"
    }
   },
   "outputs": [
    {
     "name": "stdout",
     "output_type": "stream",
     "text": [
      "0    1\n",
      "1   -2\n",
      "2    3\n",
      "3   -4\n",
      "dtype: int64\n"
     ]
    }
   ],
   "source": [
    "import pandas as pd\n",
    "obj = pd.Series([1, -2, 3, -4]) #仅有一个数组构成\n",
    "print(obj)"
   ]
  },
  {
   "cell_type": "markdown",
   "id": "cfc07c6bba3dfb11",
   "metadata": {},
   "source": [
    "创建Series时指定索引"
   ]
  },
  {
   "cell_type": "code",
   "execution_count": 2,
   "id": "8edb47d255e80999",
   "metadata": {
    "ExecuteTime": {
     "end_time": "2023-10-23T13:30:45.414795600Z",
     "start_time": "2023-10-23T13:30:44.414562900Z"
    }
   },
   "outputs": [
    {
     "name": "stdout",
     "output_type": "stream",
     "text": [
      "a    2\n",
      "c    4\n",
      "d    5\n",
      "a    7\n",
      "Name: col, dtype: int64\n"
     ]
    }
   ],
   "source": [
    "i = [\"a\", \"c\", \"d\", \"a\"]\n",
    "v = [2, 4, 5, 7]\n",
    "t = pd.Series(v, index = i, name = \"col\")\n",
    "print(t)"
   ]
  },
  {
   "cell_type": "markdown",
   "id": "cac64e7ed103513f",
   "metadata": {},
   "source": [
    "Series位置和标签的使用"
   ]
  },
  {
   "cell_type": "code",
   "execution_count": 3,
   "id": "737fdb6ed79cdbc8",
   "metadata": {
    "ExecuteTime": {
     "end_time": "2023-10-23T13:30:45.414795600Z",
     "start_time": "2023-10-23T13:30:44.425502500Z"
    }
   },
   "outputs": [
    {
     "name": "stdout",
     "output_type": "stream",
     "text": [
      "RangeIndex(start=0, stop=4, step=1)\n",
      "RangeIndex(start=10, stop=14, step=1)\n",
      "Index(['hello', 'the', 'cruel', 'world'], dtype='object')\n",
      "2\n",
      "2\n",
      "default: 2 label: 2\n"
     ]
    }
   ],
   "source": [
    "val=[2,4,5,6]\n",
    "idx1=range(10,14)\n",
    "idx2=\"hello the cruel world\".split()\n",
    "s0=pd.Series(val)\n",
    "s1=pd.Series(val,index=idx1)\n",
    "t=pd.Series(val,index=idx2)\n",
    "print(s0.index)\n",
    "print(s1.index)\n",
    "print(t.index)\n",
    "print(s0[0])\n",
    "print(s1[10])\n",
    "print('default:',t[0],'label:',t[\"hello\"])"
   ]
  },
  {
   "cell_type": "markdown",
   "id": "57aaf02f3cf69948",
   "metadata": {},
   "source": [
    "如果数据被存放在一个Python字典中，也可以直接通过这个字典来创建Series。"
   ]
  },
  {
   "cell_type": "code",
   "execution_count": 4,
   "id": "b5902f0c11f15da6",
   "metadata": {
    "ExecuteTime": {
     "end_time": "2023-10-23T13:30:45.414795600Z",
     "start_time": "2023-10-23T13:30:44.436346Z"
    }
   },
   "outputs": [
    {
     "name": "stdout",
     "output_type": "stream",
     "text": [
      "Ohio      35000\n",
      "Texas     71000\n",
      "Oregon    16000\n",
      "Utah       5000\n",
      "dtype: int64\n"
     ]
    }
   ],
   "source": [
    "sdata = {'Ohio': 35000, 'Texas': 71000, 'Oregon': 16000, 'Utah': 5000}\n",
    "obj3 = pd.Series(sdata)\n",
    "print(obj3)\n"
   ]
  },
  {
   "cell_type": "markdown",
   "id": "2b706f9a16abd425",
   "metadata": {},
   "source": [
    "键值和指定的索引不匹配"
   ]
  },
  {
   "cell_type": "code",
   "execution_count": 5,
   "id": "be54c4201fe1d9cf",
   "metadata": {
    "ExecuteTime": {
     "end_time": "2023-10-23T13:30:45.415794700Z",
     "start_time": "2023-10-23T13:30:44.441352700Z"
    }
   },
   "outputs": [
    {
     "name": "stdout",
     "output_type": "stream",
     "text": [
      "a    100.0\n",
      "b    200.0\n",
      "c      NaN\n",
      "e    300.0\n",
      "dtype: float64\n"
     ]
    }
   ],
   "source": [
    "sdata = {\"a\" : 100, \"b\" : 200, \"e\" : 300}\n",
    "letter = [\"a\", \"b\",\"c\"  , \"e\" ]\n",
    "obj =  pd.Series(sdata, index = letter)\n",
    "print(obj)\n"
   ]
  },
  {
   "cell_type": "markdown",
   "id": "6c60d7de2a40a51",
   "metadata": {},
   "source": [
    "不同索引数据的自动对齐"
   ]
  },
  {
   "cell_type": "code",
   "execution_count": 6,
   "id": "e2373264759e26ac",
   "metadata": {
    "ExecuteTime": {
     "end_time": "2023-10-23T13:30:45.415794700Z",
     "start_time": "2023-10-23T13:30:44.452874100Z"
    }
   },
   "outputs": [
    {
     "name": "stdout",
     "output_type": "stream",
     "text": [
      "California         NaN\n",
      "Ohio           70000.0\n",
      "Oregon         32000.0\n",
      "Texas         142000.0\n",
      "Utah               NaN\n",
      "dtype: float64\n"
     ]
    }
   ],
   "source": [
    "sdata = {'Ohio': 35000, 'Texas': 71000, 'Oregon': 16000, 'Utah': 5000}\n",
    "obj1 = pd.Series(sdata)\n",
    "states = ['California', 'Ohio', 'Oregon', 'Texas']\n",
    "obj2 = pd.Series(sdata, index = states)\n",
    "print(obj1+obj2)\n"
   ]
  },
  {
   "cell_type": "markdown",
   "id": "caf8e2c19f541dbe",
   "metadata": {},
   "source": [
    "Series索引的修改"
   ]
  },
  {
   "cell_type": "code",
   "execution_count": 7,
   "id": "fa8f6e8b287caed",
   "metadata": {
    "ExecuteTime": {
     "end_time": "2023-10-23T13:30:45.415794700Z",
     "start_time": "2023-10-23T13:30:44.457881100Z"
    }
   },
   "outputs": [
    {
     "name": "stdout",
     "output_type": "stream",
     "text": [
      "Bob      4\n",
      "Steve    7\n",
      "Jeff    -3\n",
      "Ryan     2\n",
      "dtype: int64\n"
     ]
    }
   ],
   "source": [
    "obj = pd.Series([4,7,-3,2])\n",
    "obj.index = ['Bob', 'Steve', 'Jeff', 'Ryan']\n",
    "print(obj)\n"
   ]
  },
  {
   "cell_type": "markdown",
   "id": "30c3ce15eb45f7ec",
   "metadata": {},
   "source": [
    "DataFrame是一个表格型的数据结构，它含有一组有序的列，每列可以是不同的值类型（数值、字符串、布尔值等）。DataFrame既有行索引也有列索引，它可以被看做由Series组成的字典（共用同一个索引）。  \n",
    "`pd.DataFrame(data=None, index=None, columns=None, dtype=None, copy=False)\n",
    "`\n"
   ]
  },
  {
   "cell_type": "code",
   "execution_count": 8,
   "id": "2e99fd074848d748",
   "metadata": {
    "ExecuteTime": {
     "end_time": "2023-10-23T13:30:45.415794700Z",
     "start_time": "2023-10-23T13:30:44.465001700Z"
    }
   },
   "outputs": [
    {
     "name": "stdout",
     "output_type": "stream",
     "text": [
      "  name     sex  year city\n",
      "0   张三  female  2001   北京\n",
      "1   李四  female  2001   上海\n",
      "2   王五    male  2003   广州\n",
      "3   小明    male  2002   北京\n"
     ]
    }
   ],
   "source": [
    "data = {\n",
    "    'name':['张三', '李四', '王五', '小明'],\n",
    "    'sex':['female', 'female', 'male', 'male'],\n",
    "    'year':[2001, 2001, 2003, 2002],\n",
    "    'city':['北京', '上海', '广州', '北京']\n",
    "}\n",
    "df = pd.DataFrame(data)\n",
    "print(df)\n"
   ]
  },
  {
   "cell_type": "markdown",
   "id": "cfd48c9e67888154",
   "metadata": {},
   "source": [
    "DataFrame的索引  \n",
    "\n"
   ]
  },
  {
   "cell_type": "code",
   "execution_count": 9,
   "id": "25c165873271139d",
   "metadata": {
    "ExecuteTime": {
     "end_time": "2023-10-23T13:30:45.416796200Z",
     "start_time": "2023-10-23T13:30:44.475964900Z"
    }
   },
   "outputs": [
    {
     "name": "stdout",
     "output_type": "stream",
     "text": [
      "  name  year     sex city\n",
      "0   张三  2001  female   北京\n",
      "1   李四  2001  female   上海\n",
      "2   王五  2003    male   广州\n",
      "3   小明  2002    male   北京\n"
     ]
    }
   ],
   "source": [
    "df1 = pd.DataFrame(data, columns = ['name', 'year', 'sex', 'city'])\n",
    "print(df1)\n"
   ]
  },
  {
   "cell_type": "markdown",
   "id": "eb077afbd9bdc31d",
   "metadata": {},
   "source": [
    "跟Series一样，如果传入的列在数据中找不到，就会产生NA值  \n",
    "DataFrame创建时的空缺值"
   ]
  },
  {
   "cell_type": "code",
   "execution_count": 10,
   "id": "5be4678d1c059174",
   "metadata": {
    "ExecuteTime": {
     "end_time": "2023-10-23T13:30:45.417794300Z",
     "start_time": "2023-10-23T13:30:44.491186200Z"
    }
   },
   "outputs": [
    {
     "name": "stdout",
     "output_type": "stream",
     "text": [
      "  name  year     sex city address\n",
      "0   张三  2001  female   北京     NaN\n",
      "1   李四  2001  female   上海     NaN\n",
      "2   王五  2003    male   广州     NaN\n",
      "3   小明  2002    male   北京     NaN\n"
     ]
    }
   ],
   "source": [
    "df2 = pd.DataFrame(data, columns = ['name', 'year', 'sex', 'city','address'])\n",
    "print(df2)\n"
   ]
  },
  {
   "cell_type": "markdown",
   "id": "81ddc19451195d7d",
   "metadata": {},
   "source": [
    "DataFrame构造函数的columns函数给出列的名字，index给出label标签  \n",
    "DataFrame创建时指定列名\n"
   ]
  },
  {
   "cell_type": "code",
   "execution_count": 11,
   "id": "bd6dec13fe66d0b4",
   "metadata": {
    "ExecuteTime": {
     "end_time": "2023-10-23T13:30:45.417794300Z",
     "start_time": "2023-10-23T13:30:44.499642400Z"
    }
   },
   "outputs": [
    {
     "name": "stdout",
     "output_type": "stream",
     "text": [
      "  name     sex  year city\n",
      "a   张三  female  2001   北京\n",
      "b   李四  female  2001   上海\n",
      "c   王五    male  2003   广州\n",
      "d   小明    male  2002   北京\n"
     ]
    }
   ],
   "source": [
    "df3 = pd.DataFrame(data, columns = ['name', 'sex', 'year', 'city'], index = ['a', 'b', 'c', 'd'])\n",
    "print(df3)\n"
   ]
  },
  {
   "cell_type": "markdown",
   "id": "bccf719375add8cb",
   "metadata": {},
   "source": [
    "DataFrame的属性  \n",
    "\n",
    "| **函数** | **返回值**           |\n",
    "| -------- | -------------------- |\n",
    "| values   | 元素                 |\n",
    "| index    | 索引                 |\n",
    "| columns  | 列名                 |\n",
    "| dtypes   | 类型                 |\n",
    "| size     | 元素个数             |\n",
    "| ndim     | 维度数               |\n",
    "| shape    | 数据形状（行列数目） |"
   ]
  },
  {
   "cell_type": "markdown",
   "id": "ac02c9689c4d040b",
   "metadata": {},
   "source": [
    "### 索引对象  \n",
    "Pandas的索引对象负责管理轴标签和其他元数据（比如轴名称等）。构建Series或 DataFrame时，所用到的任何数组或其他序列的标签都会被转换成一个Index。\n",
    "显示DataFrame的索引和列。\n",
    "  "
   ]
  },
  {
   "cell_type": "code",
   "execution_count": 12,
   "id": "a48aeab328a06997",
   "metadata": {
    "ExecuteTime": {
     "end_time": "2023-10-23T13:30:45.417794300Z",
     "start_time": "2023-10-23T13:30:44.503166500Z"
    }
   },
   "outputs": [
    {
     "name": "stdout",
     "output_type": "stream",
     "text": [
      "  name     sex  year city\n",
      "0   张三  female  2001   北京\n",
      "1   李四  female  2001   上海\n",
      "2   王五    male  2003   广州\n",
      "3   小明    male  2002   北京\n",
      "RangeIndex(start=0, stop=4, step=1)\n",
      "Index(['name', 'sex', 'year', 'city'], dtype='object')\n"
     ]
    }
   ],
   "source": [
    "print(df) \n",
    "print(df.index)\n",
    "print(df.columns)\n"
   ]
  },
  {
   "cell_type": "markdown",
   "id": "76306665876e350e",
   "metadata": {},
   "source": [
    "DataFrame的Index\n"
   ]
  },
  {
   "cell_type": "code",
   "execution_count": 13,
   "id": "920f2c8a8328751b",
   "metadata": {
    "ExecuteTime": {
     "end_time": "2023-10-23T13:30:45.418793900Z",
     "start_time": "2023-10-23T13:30:44.512455500Z"
    }
   },
   "outputs": [
    {
     "name": "stdout",
     "output_type": "stream",
     "text": [
      "True\n",
      "False\n"
     ]
    }
   ],
   "source": [
    "print('name' in df.columns)\n",
    "print('f' in df.index)\n"
   ]
  },
  {
   "cell_type": "markdown",
   "id": "9d0a45a4514884ee",
   "metadata": {},
   "source": [
    "每个索引都有一些方法和属性，它们可用于设置逻辑并回答有关该索引所包含的数据的常见问题。  \n",
    "\n",
    "| 方法         | 说明                                               |\n",
    "| ------------ | -------------------------------------------------- |\n",
    "| append       | 连接另一个Index对象，产生一个新的Index             |\n",
    "| diff         | 计算差集，并得到一个Index                          |\n",
    "| intersection | 计算交集                                           |\n",
    "| union        | 计算并集                                           |\n",
    "| isin         | 计算一个指示各值是否都包含在参数集合中的布尔型数组 |\n",
    "| delete       | 删除索引i处的元素，并得到新的Index                 |\n",
    "| drop         | 删除传入的值，并得到新的Index                      |\n",
    "| insert       | 将元素插入到索引i处，并得到新的Index               |\n",
    "| is_monotonic | 当各元素均大于等于前一个元素时，返回True           |\n",
    "| is.unique    | 当Index没有重复值时，返回True                      |\n",
    "| unique       | 计算Index中唯一值的数组                            |"
   ]
  },
  {
   "cell_type": "markdown",
   "id": "c3c154bd608893af",
   "metadata": {},
   "source": [
    "DataFrame的基础属性有values、index、columns、dtypes、ndim和shape，分别可以获取DataFrame的元素、索引、列名、类型、维度和形状  \n"
   ]
  },
  {
   "cell_type": "code",
   "execution_count": 14,
   "id": "cebc1aea5ee3b9c0",
   "metadata": {
    "ExecuteTime": {
     "end_time": "2023-10-23T13:30:45.418793900Z",
     "start_time": "2023-10-23T13:30:44.517782800Z"
    }
   },
   "outputs": [
    {
     "name": "stdout",
     "output_type": "stream",
     "text": [
      "  name     sex  year city\n",
      "0   张三  female  2001   北京\n",
      "1   李四  female  2001   上海\n",
      "2   王五    male  2003   广州\n",
      "3   小明    male  2002   北京\n",
      "信息表的所有值为：\n",
      " [['张三' 'female' 2001 '北京']\n",
      " ['李四' 'female' 2001 '上海']\n",
      " ['王五' 'male' 2003 '广州']\n",
      " ['小明' 'male' 2002 '北京']]\n",
      "信息表的列为：\n",
      " Index(['name', 'sex', 'year', 'city'], dtype='object')\n",
      "信息表的元素个数为：\n",
      " 16\n",
      "信息表的维度为：\n",
      " 2\n",
      "信息表的形状为：\n",
      " (4, 4)\n"
     ]
    }
   ],
   "source": [
    "print(df)\n",
    "print('信息表的所有值为：\\n',df.values)\n",
    "print('信息表的列为：\\n',df.columns)\n",
    "print('信息表的元素个数为：\\n',df.size)\n",
    "print('信息表的维度为：\\n',df.ndim)\n",
    "print('信息表的形状为：\\n',df.shape)"
   ]
  },
  {
   "cell_type": "markdown",
   "id": "24576df3d0552e7e",
   "metadata": {},
   "source": [
    "### 重新索引  \n",
    "索引对象是无法修改的，因此，重新索引是指对索引重新排序而不是重新命名，如果某个索引值不存在的话，会引入缺失值。\n"
   ]
  },
  {
   "cell_type": "code",
   "execution_count": 15,
   "id": "bd952e6e26831cac",
   "metadata": {
    "ExecuteTime": {
     "end_time": "2023-10-23T13:30:45.428974400Z",
     "start_time": "2023-10-23T13:30:44.528728900Z"
    }
   },
   "outputs": [
    {
     "name": "stdout",
     "output_type": "stream",
     "text": [
      "b    7.2\n",
      "a   -4.3\n",
      "d    4.5\n",
      "c    3.6\n",
      "dtype: float64\n"
     ]
    },
    {
     "data": {
      "text/plain": [
       "a   -4.3\n",
       "b    7.2\n",
       "c    3.6\n",
       "d    4.5\n",
       "e    NaN\n",
       "dtype: float64"
      ]
     },
     "execution_count": 15,
     "metadata": {},
     "output_type": "execute_result"
    }
   ],
   "source": [
    "obj=pd.Series([7.2,-4.3,4.5,3.6],index=['b','a','d','c'])\n",
    "print(obj)\n",
    "obj.reindex(['a','b','c','d','e'])"
   ]
  },
  {
   "cell_type": "markdown",
   "id": "d546c2a8d48b055e",
   "metadata": {},
   "source": [
    "对于重建索引引入的缺失值，可以利用fill_value参数填充。  \n",
    "重建索引时填充缺失值。"
   ]
  },
  {
   "cell_type": "code",
   "execution_count": 16,
   "id": "aada3afff36a6352",
   "metadata": {
    "ExecuteTime": {
     "end_time": "2023-10-23T13:30:45.430972Z",
     "start_time": "2023-10-23T13:30:44.537951200Z"
    }
   },
   "outputs": [
    {
     "data": {
      "text/plain": [
       "a   -4.3\n",
       "b    7.2\n",
       "c    3.6\n",
       "d    4.5\n",
       "e    0.0\n",
       "dtype: float64"
      ]
     },
     "execution_count": 16,
     "metadata": {},
     "output_type": "execute_result"
    }
   ],
   "source": [
    "obj.reindex(['a', 'b', 'c', 'd', 'e'], fill_value = 0)\n"
   ]
  },
  {
   "cell_type": "markdown",
   "id": "98b2c60210cd45c",
   "metadata": {},
   "source": [
    "对于顺序数据，比如时间序列，重新索引时可能需要进行插值或填值处理，利用参数method选项可以设置：  \n",
    "method = ‘ffill’或‘pad’，表示前向值填充  \n",
    "method = ‘bfill’或‘backfill’，表示后向值填充  \n",
    "缺失值的前向填充"
   ]
  },
  {
   "cell_type": "code",
   "execution_count": 17,
   "id": "2d72f80a210cb3d4",
   "metadata": {
    "ExecuteTime": {
     "end_time": "2023-10-23T13:30:45.430972Z",
     "start_time": "2023-10-23T13:30:44.548778300Z"
    }
   },
   "outputs": [
    {
     "data": {
      "text/plain": [
       "0     blue\n",
       "1     blue\n",
       "2      red\n",
       "3      red\n",
       "4    black\n",
       "5    black\n",
       "dtype: object"
      ]
     },
     "execution_count": 17,
     "metadata": {},
     "output_type": "execute_result"
    }
   ],
   "source": [
    "import numpy as np\n",
    "obj1=pd.Series(['blue','red','black'],index=[0,2,4])\n",
    "obj1.reindex(np.arange(6),method='ffill')"
   ]
  },
  {
   "cell_type": "markdown",
   "id": "28dc1436ba6a620c",
   "metadata": {},
   "source": [
    "缺失值的后向填充"
   ]
  },
  {
   "cell_type": "code",
   "execution_count": 18,
   "id": "b26d150b92baf23f",
   "metadata": {
    "ExecuteTime": {
     "end_time": "2023-10-23T13:30:45.430972Z",
     "start_time": "2023-10-23T13:30:44.554291700Z"
    }
   },
   "outputs": [
    {
     "data": {
      "text/plain": [
       "0     blue\n",
       "1      red\n",
       "2      red\n",
       "3    black\n",
       "4    black\n",
       "5      NaN\n",
       "dtype: object"
      ]
     },
     "execution_count": 18,
     "metadata": {},
     "output_type": "execute_result"
    }
   ],
   "source": [
    "obj2=pd.Series(['blue','red','black'],index=[0,2,4])\n",
    "obj2.reindex(np.arange(6),method='backfill')"
   ]
  },
  {
   "cell_type": "markdown",
   "id": "590566de8b945541",
   "metadata": {},
   "source": [
    "DataFrame数据"
   ]
  },
  {
   "cell_type": "code",
   "execution_count": 19,
   "id": "9ab78c5cb808c53e",
   "metadata": {
    "ExecuteTime": {
     "end_time": "2023-10-23T13:30:45.431973300Z",
     "start_time": "2023-10-23T13:30:44.562891700Z"
    }
   },
   "outputs": [
    {
     "name": "stdout",
     "output_type": "stream",
     "text": [
      "   one  two  four\n",
      "a    0    1     2\n",
      "c    3    4     5\n",
      "d    6    7     8\n"
     ]
    }
   ],
   "source": [
    "df4 = pd.DataFrame(np.arange(9).reshape(3,3),\n",
    "index = ['a','c','d'],columns = ['one','two','four'])\n",
    "print(df4)\n"
   ]
  },
  {
   "cell_type": "markdown",
   "id": "df9e9ffce1bf796a",
   "metadata": {},
   "source": [
    "reindex操作"
   ]
  },
  {
   "cell_type": "code",
   "execution_count": 20,
   "id": "a395cfb30bd82742",
   "metadata": {
    "ExecuteTime": {
     "end_time": "2023-10-23T13:30:45.432972100Z",
     "start_time": "2023-10-23T13:30:44.567166300Z"
    }
   },
   "outputs": [
    {
     "data": {
      "text/html": [
       "<div>\n",
       "<style scoped>\n",
       "    .dataframe tbody tr th:only-of-type {\n",
       "        vertical-align: middle;\n",
       "    }\n",
       "\n",
       "    .dataframe tbody tr th {\n",
       "        vertical-align: top;\n",
       "    }\n",
       "\n",
       "    .dataframe thead th {\n",
       "        text-align: right;\n",
       "    }\n",
       "</style>\n",
       "<table border=\"1\" class=\"dataframe\">\n",
       "  <thead>\n",
       "    <tr style=\"text-align: right;\">\n",
       "      <th></th>\n",
       "      <th>one</th>\n",
       "      <th>two</th>\n",
       "      <th>three</th>\n",
       "      <th>four</th>\n",
       "    </tr>\n",
       "  </thead>\n",
       "  <tbody>\n",
       "    <tr>\n",
       "      <th>a</th>\n",
       "      <td>0.0</td>\n",
       "      <td>1.0</td>\n",
       "      <td>NaN</td>\n",
       "      <td>2.0</td>\n",
       "    </tr>\n",
       "    <tr>\n",
       "      <th>b</th>\n",
       "      <td>NaN</td>\n",
       "      <td>NaN</td>\n",
       "      <td>NaN</td>\n",
       "      <td>NaN</td>\n",
       "    </tr>\n",
       "    <tr>\n",
       "      <th>c</th>\n",
       "      <td>3.0</td>\n",
       "      <td>4.0</td>\n",
       "      <td>NaN</td>\n",
       "      <td>5.0</td>\n",
       "    </tr>\n",
       "    <tr>\n",
       "      <th>d</th>\n",
       "      <td>6.0</td>\n",
       "      <td>7.0</td>\n",
       "      <td>NaN</td>\n",
       "      <td>8.0</td>\n",
       "    </tr>\n",
       "  </tbody>\n",
       "</table>\n",
       "</div>"
      ],
      "text/plain": [
       "   one  two  three  four\n",
       "a  0.0  1.0    NaN   2.0\n",
       "b  NaN  NaN    NaN   NaN\n",
       "c  3.0  4.0    NaN   5.0\n",
       "d  6.0  7.0    NaN   8.0"
      ]
     },
     "execution_count": 20,
     "metadata": {},
     "output_type": "execute_result"
    }
   ],
   "source": [
    "df4.reindex(index=['a','b','c','d'],columns=['one','two','three','four'])"
   ]
  },
  {
   "cell_type": "markdown",
   "id": "f409600e779248fe",
   "metadata": {},
   "source": [
    "传入fill_value = n用n代替缺失值"
   ]
  },
  {
   "cell_type": "code",
   "execution_count": 21,
   "id": "29b6242a3f7218cd",
   "metadata": {
    "ExecuteTime": {
     "end_time": "2023-10-23T13:30:45.433974400Z",
     "start_time": "2023-10-23T13:30:44.585231900Z"
    }
   },
   "outputs": [
    {
     "data": {
      "text/html": [
       "<div>\n",
       "<style scoped>\n",
       "    .dataframe tbody tr th:only-of-type {\n",
       "        vertical-align: middle;\n",
       "    }\n",
       "\n",
       "    .dataframe tbody tr th {\n",
       "        vertical-align: top;\n",
       "    }\n",
       "\n",
       "    .dataframe thead th {\n",
       "        text-align: right;\n",
       "    }\n",
       "</style>\n",
       "<table border=\"1\" class=\"dataframe\">\n",
       "  <thead>\n",
       "    <tr style=\"text-align: right;\">\n",
       "      <th></th>\n",
       "      <th>one</th>\n",
       "      <th>two</th>\n",
       "      <th>three</th>\n",
       "      <th>four</th>\n",
       "    </tr>\n",
       "  </thead>\n",
       "  <tbody>\n",
       "    <tr>\n",
       "      <th>a</th>\n",
       "      <td>0</td>\n",
       "      <td>1</td>\n",
       "      <td>100</td>\n",
       "      <td>2</td>\n",
       "    </tr>\n",
       "    <tr>\n",
       "      <th>b</th>\n",
       "      <td>100</td>\n",
       "      <td>100</td>\n",
       "      <td>100</td>\n",
       "      <td>100</td>\n",
       "    </tr>\n",
       "    <tr>\n",
       "      <th>c</th>\n",
       "      <td>3</td>\n",
       "      <td>4</td>\n",
       "      <td>100</td>\n",
       "      <td>5</td>\n",
       "    </tr>\n",
       "    <tr>\n",
       "      <th>d</th>\n",
       "      <td>6</td>\n",
       "      <td>7</td>\n",
       "      <td>100</td>\n",
       "      <td>8</td>\n",
       "    </tr>\n",
       "  </tbody>\n",
       "</table>\n",
       "</div>"
      ],
      "text/plain": [
       "   one  two  three  four\n",
       "a    0    1    100     2\n",
       "b  100  100    100   100\n",
       "c    3    4    100     5\n",
       "d    6    7    100     8"
      ]
     },
     "execution_count": 21,
     "metadata": {},
     "output_type": "execute_result"
    }
   ],
   "source": [
    "df4.reindex(index=['a','b','c','d'],columns=['one','two','three','four'],fill_value=100)"
   ]
  },
  {
   "cell_type": "markdown",
   "id": "b2477d979d3a3b33",
   "metadata": {},
   "source": [
    "reindex函数参数    \n",
    "\n",
    "| 参数             | 使用说明                                                     |\n",
    "| ---------------- | ------------------------------------------------------------ |\n",
    "| index            | 用于索引的新序列                                             |\n",
    "| method           | 插值（填充）方式                                             |\n",
    "| fill_value       | 缺失值替换值                                                 |\n",
    "| limit            | 最大填充量                                                   |\n",
    "| level       copy | 在Multiindex的指定级别上匹配简单索引，否则选取其子集  默认为True，无论如何都复制；如果为False，则新旧相等时就不复制 |  \n",
    "\n",
    "如果不希望使用默认的行索引，则可以在创建的时候通过Index参数来设置。\n",
    "在DataFrame数据中，如果希望将列数据作为索引，则可以通过set_index方法来实现。 \n",
    "重建索引   \n"
   ]
  },
  {
   "cell_type": "code",
   "execution_count": 22,
   "id": "65d5ca2763649ce",
   "metadata": {
    "ExecuteTime": {
     "end_time": "2023-10-23T13:30:45.433974400Z",
     "start_time": "2023-10-23T13:30:44.593777300Z"
    }
   },
   "outputs": [
    {
     "name": "stdout",
     "output_type": "stream",
     "text": [
      "     name  year     sex\n",
      "city                   \n",
      "北京     张三  2001  female\n",
      "上海     李四  2001  female\n",
      "广州     王五  2003    male\n",
      "北京     小明  2002    male\n"
     ]
    }
   ],
   "source": [
    "df5=df1.set_index('city')\n",
    "print(df5)"
   ]
  },
  {
   "cell_type": "markdown",
   "id": "1612e64be268b475",
   "metadata": {},
   "source": [
    "### DataFrame数据的查询\n",
    "1. 选取列:  \n",
    "    通过列索引或以属性的方式可以单独获取DataFrame的列数据，返回的数据类型为Series。\n"
   ]
  },
  {
   "cell_type": "code",
   "execution_count": 23,
   "id": "fdfda6e5696ded24",
   "metadata": {
    "ExecuteTime": {
     "end_time": "2023-10-23T13:30:45.454801200Z",
     "start_time": "2023-10-23T13:30:44.603287400Z"
    }
   },
   "outputs": [
    {
     "data": {
      "text/html": [
       "<div>\n",
       "<style scoped>\n",
       "    .dataframe tbody tr th:only-of-type {\n",
       "        vertical-align: middle;\n",
       "    }\n",
       "\n",
       "    .dataframe tbody tr th {\n",
       "        vertical-align: top;\n",
       "    }\n",
       "\n",
       "    .dataframe thead th {\n",
       "        text-align: right;\n",
       "    }\n",
       "</style>\n",
       "<table border=\"1\" class=\"dataframe\">\n",
       "  <thead>\n",
       "    <tr style=\"text-align: right;\">\n",
       "      <th></th>\n",
       "      <th>name</th>\n",
       "      <th>year</th>\n",
       "    </tr>\n",
       "    <tr>\n",
       "      <th>city</th>\n",
       "      <th></th>\n",
       "      <th></th>\n",
       "    </tr>\n",
       "  </thead>\n",
       "  <tbody>\n",
       "    <tr>\n",
       "      <th>北京</th>\n",
       "      <td>张三</td>\n",
       "      <td>2001</td>\n",
       "    </tr>\n",
       "    <tr>\n",
       "      <th>上海</th>\n",
       "      <td>李四</td>\n",
       "      <td>2001</td>\n",
       "    </tr>\n",
       "    <tr>\n",
       "      <th>广州</th>\n",
       "      <td>王五</td>\n",
       "      <td>2003</td>\n",
       "    </tr>\n",
       "    <tr>\n",
       "      <th>北京</th>\n",
       "      <td>小明</td>\n",
       "      <td>2002</td>\n",
       "    </tr>\n",
       "  </tbody>\n",
       "</table>\n",
       "</div>"
      ],
      "text/plain": [
       "     name  year\n",
       "city           \n",
       "北京     张三  2001\n",
       "上海     李四  2001\n",
       "广州     王五  2003\n",
       "北京     小明  2002"
      ]
     },
     "metadata": {},
     "output_type": "display_data"
    },
    {
     "data": {
      "text/html": [
       "<div>\n",
       "<style scoped>\n",
       "    .dataframe tbody tr th:only-of-type {\n",
       "        vertical-align: middle;\n",
       "    }\n",
       "\n",
       "    .dataframe tbody tr th {\n",
       "        vertical-align: top;\n",
       "    }\n",
       "\n",
       "    .dataframe thead th {\n",
       "        text-align: right;\n",
       "    }\n",
       "</style>\n",
       "<table border=\"1\" class=\"dataframe\">\n",
       "  <thead>\n",
       "    <tr style=\"text-align: right;\">\n",
       "      <th></th>\n",
       "      <th>name</th>\n",
       "      <th>sex</th>\n",
       "    </tr>\n",
       "    <tr>\n",
       "      <th>city</th>\n",
       "      <th></th>\n",
       "      <th></th>\n",
       "    </tr>\n",
       "  </thead>\n",
       "  <tbody>\n",
       "    <tr>\n",
       "      <th>北京</th>\n",
       "      <td>张三</td>\n",
       "      <td>female</td>\n",
       "    </tr>\n",
       "    <tr>\n",
       "      <th>上海</th>\n",
       "      <td>李四</td>\n",
       "      <td>female</td>\n",
       "    </tr>\n",
       "    <tr>\n",
       "      <th>广州</th>\n",
       "      <td>王五</td>\n",
       "      <td>male</td>\n",
       "    </tr>\n",
       "    <tr>\n",
       "      <th>北京</th>\n",
       "      <td>小明</td>\n",
       "      <td>male</td>\n",
       "    </tr>\n",
       "  </tbody>\n",
       "</table>\n",
       "</div>"
      ],
      "text/plain": [
       "     name     sex\n",
       "city             \n",
       "北京     张三  female\n",
       "上海     李四  female\n",
       "广州     王五    male\n",
       "北京     小明    male"
      ]
     },
     "metadata": {},
     "output_type": "display_data"
    },
    {
     "data": {
      "text/html": [
       "<div>\n",
       "<style scoped>\n",
       "    .dataframe tbody tr th:only-of-type {\n",
       "        vertical-align: middle;\n",
       "    }\n",
       "\n",
       "    .dataframe tbody tr th {\n",
       "        vertical-align: top;\n",
       "    }\n",
       "\n",
       "    .dataframe thead th {\n",
       "        text-align: right;\n",
       "    }\n",
       "</style>\n",
       "<table border=\"1\" class=\"dataframe\">\n",
       "  <thead>\n",
       "    <tr style=\"text-align: right;\">\n",
       "      <th></th>\n",
       "      <th>name</th>\n",
       "      <th>year</th>\n",
       "      <th>sex</th>\n",
       "    </tr>\n",
       "    <tr>\n",
       "      <th>city</th>\n",
       "      <th></th>\n",
       "      <th></th>\n",
       "      <th></th>\n",
       "    </tr>\n",
       "  </thead>\n",
       "  <tbody>\n",
       "    <tr>\n",
       "      <th>北京</th>\n",
       "      <td>张三</td>\n",
       "      <td>2001</td>\n",
       "      <td>female</td>\n",
       "    </tr>\n",
       "    <tr>\n",
       "      <th>上海</th>\n",
       "      <td>李四</td>\n",
       "      <td>2001</td>\n",
       "      <td>female</td>\n",
       "    </tr>\n",
       "    <tr>\n",
       "      <th>广州</th>\n",
       "      <td>王五</td>\n",
       "      <td>2003</td>\n",
       "      <td>male</td>\n",
       "    </tr>\n",
       "    <tr>\n",
       "      <th>北京</th>\n",
       "      <td>小明</td>\n",
       "      <td>2002</td>\n",
       "      <td>male</td>\n",
       "    </tr>\n",
       "  </tbody>\n",
       "</table>\n",
       "</div>"
      ],
      "text/plain": [
       "     name  year     sex\n",
       "city                   \n",
       "北京     张三  2001  female\n",
       "上海     李四  2001  female\n",
       "广州     王五  2003    male\n",
       "北京     小明  2002    male"
      ]
     },
     "execution_count": 23,
     "metadata": {},
     "output_type": "execute_result"
    }
   ],
   "source": [
    "w1=df5[['name','year']]\n",
    "display(w1)\n",
    "#选择非int64类型的列\n",
    "display(df5.select_dtypes(exclude=['int64']).head())\n",
    "#选择int64和object类型的列\n",
    "df5.select_dtypes(include=['int64','object']).head()"
   ]
  },
  {
   "cell_type": "markdown",
   "id": "dec4d80eb80239fb",
   "metadata": {},
   "source": [
    "2. 选取行  \n",
    "    通过切片形式可以选取一行或多行数据。\n"
   ]
  },
  {
   "cell_type": "code",
   "execution_count": 24,
   "id": "4027ca48cf78059",
   "metadata": {
    "ExecuteTime": {
     "end_time": "2023-10-23T13:30:45.454801200Z",
     "start_time": "2023-10-23T13:30:44.617124700Z"
    }
   },
   "outputs": [
    {
     "name": "stdout",
     "output_type": "stream",
     "text": [
      "  name     sex  year city\n",
      "0   张三  female  2001   北京\n",
      "1   李四  female  2001   上海\n",
      "2   王五    male  2003   广州\n",
      "3   小明    male  2002   北京\n",
      "显示前2行:\n",
      "   name     sex  year city\n",
      "0   张三  female  2001   北京\n",
      "1   李四  female  2001   上海\n",
      "显示第2-3两行:\n",
      "   name   sex  year city\n",
      "2   王五  male  2003   广州\n"
     ]
    }
   ],
   "source": [
    "print(df)\n",
    "print('显示前2行:\\n',df[:2])\n",
    "print('显示第2-3两行:\\n',df[2:3])"
   ]
  },
  {
   "cell_type": "markdown",
   "id": "5403a60fc8cb79ce",
   "metadata": {},
   "source": [
    "选取通过DataFrame提供的head和tail方法可以得到多行数据，但是用这两种方法得到的数据都是从开始或者末尾获取连续的数据， 而利用sample可以随机抽取数据并显示。  \n",
    "head（） #默认获取前5行  \n",
    "head（n）#获取前n行  \n",
    "tail（）#默认获取后5行  \n",
    "head（n）#获取后n行  \n",
    "sample（n）#随机抽取n行显示  \n",
    "sample(frac=0.6)     #随机抽取60%的行\n"
   ]
  },
  {
   "cell_type": "markdown",
   "id": "c6fe65c4d47c54ac",
   "metadata": {},
   "source": [
    "3. 选取行和列\n",
    "DataFrame.loc(行索引名称或条件，列索引名称)\n",
    "DataFrame.iloc(行索引位置，列索引位置)\n"
   ]
  },
  {
   "cell_type": "code",
   "execution_count": 25,
   "id": "bfa5c32dc7731bfb",
   "metadata": {
    "ExecuteTime": {
     "end_time": "2023-10-23T13:30:45.455798500Z",
     "start_time": "2023-10-23T13:30:44.629922Z"
    }
   },
   "outputs": [
    {
     "data": {
      "text/html": [
       "<div>\n",
       "<style scoped>\n",
       "    .dataframe tbody tr th:only-of-type {\n",
       "        vertical-align: middle;\n",
       "    }\n",
       "\n",
       "    .dataframe tbody tr th {\n",
       "        vertical-align: top;\n",
       "    }\n",
       "\n",
       "    .dataframe thead th {\n",
       "        text-align: right;\n",
       "    }\n",
       "</style>\n",
       "<table border=\"1\" class=\"dataframe\">\n",
       "  <thead>\n",
       "    <tr style=\"text-align: right;\">\n",
       "      <th></th>\n",
       "      <th>name</th>\n",
       "      <th>year</th>\n",
       "    </tr>\n",
       "    <tr>\n",
       "      <th>city</th>\n",
       "      <th></th>\n",
       "      <th></th>\n",
       "    </tr>\n",
       "  </thead>\n",
       "  <tbody>\n",
       "    <tr>\n",
       "      <th>北京</th>\n",
       "      <td>张三</td>\n",
       "      <td>2001</td>\n",
       "    </tr>\n",
       "    <tr>\n",
       "      <th>上海</th>\n",
       "      <td>李四</td>\n",
       "      <td>2001</td>\n",
       "    </tr>\n",
       "    <tr>\n",
       "      <th>广州</th>\n",
       "      <td>王五</td>\n",
       "      <td>2003</td>\n",
       "    </tr>\n",
       "    <tr>\n",
       "      <th>北京</th>\n",
       "      <td>小明</td>\n",
       "      <td>2002</td>\n",
       "    </tr>\n",
       "  </tbody>\n",
       "</table>\n",
       "</div>"
      ],
      "text/plain": [
       "     name  year\n",
       "city           \n",
       "北京     张三  2001\n",
       "上海     李四  2001\n",
       "广州     王五  2003\n",
       "北京     小明  2002"
      ]
     },
     "metadata": {},
     "output_type": "display_data"
    },
    {
     "data": {
      "text/html": [
       "<div>\n",
       "<style scoped>\n",
       "    .dataframe tbody tr th:only-of-type {\n",
       "        vertical-align: middle;\n",
       "    }\n",
       "\n",
       "    .dataframe tbody tr th {\n",
       "        vertical-align: top;\n",
       "    }\n",
       "\n",
       "    .dataframe thead th {\n",
       "        text-align: right;\n",
       "    }\n",
       "</style>\n",
       "<table border=\"1\" class=\"dataframe\">\n",
       "  <thead>\n",
       "    <tr style=\"text-align: right;\">\n",
       "      <th></th>\n",
       "      <th>name</th>\n",
       "      <th>year</th>\n",
       "    </tr>\n",
       "    <tr>\n",
       "      <th>city</th>\n",
       "      <th></th>\n",
       "      <th></th>\n",
       "    </tr>\n",
       "  </thead>\n",
       "  <tbody>\n",
       "    <tr>\n",
       "      <th>北京</th>\n",
       "      <td>张三</td>\n",
       "      <td>2001</td>\n",
       "    </tr>\n",
       "    <tr>\n",
       "      <th>北京</th>\n",
       "      <td>小明</td>\n",
       "      <td>2002</td>\n",
       "    </tr>\n",
       "    <tr>\n",
       "      <th>上海</th>\n",
       "      <td>李四</td>\n",
       "      <td>2001</td>\n",
       "    </tr>\n",
       "  </tbody>\n",
       "</table>\n",
       "</div>"
      ],
      "text/plain": [
       "     name  year\n",
       "city           \n",
       "北京     张三  2001\n",
       "北京     小明  2002\n",
       "上海     李四  2001"
      ]
     },
     "metadata": {},
     "output_type": "display_data"
    },
    {
     "data": {
      "text/html": [
       "<div>\n",
       "<style scoped>\n",
       "    .dataframe tbody tr th:only-of-type {\n",
       "        vertical-align: middle;\n",
       "    }\n",
       "\n",
       "    .dataframe tbody tr th {\n",
       "        vertical-align: top;\n",
       "    }\n",
       "\n",
       "    .dataframe thead th {\n",
       "        text-align: right;\n",
       "    }\n",
       "</style>\n",
       "<table border=\"1\" class=\"dataframe\">\n",
       "  <thead>\n",
       "    <tr style=\"text-align: right;\">\n",
       "      <th></th>\n",
       "      <th>name</th>\n",
       "      <th>year</th>\n",
       "    </tr>\n",
       "    <tr>\n",
       "      <th>city</th>\n",
       "      <th></th>\n",
       "      <th></th>\n",
       "    </tr>\n",
       "  </thead>\n",
       "  <tbody>\n",
       "    <tr>\n",
       "      <th>广州</th>\n",
       "      <td>王五</td>\n",
       "      <td>2003</td>\n",
       "    </tr>\n",
       "    <tr>\n",
       "      <th>北京</th>\n",
       "      <td>小明</td>\n",
       "      <td>2002</td>\n",
       "    </tr>\n",
       "  </tbody>\n",
       "</table>\n",
       "</div>"
      ],
      "text/plain": [
       "     name  year\n",
       "city           \n",
       "广州     王五  2003\n",
       "北京     小明  2002"
      ]
     },
     "metadata": {},
     "output_type": "display_data"
    }
   ],
   "source": [
    "#显示name和year两列\n",
    "display(df5.loc[:,['name','year']])\n",
    "#显示北京和上海行中的name和year两列\n",
    "display(df5.loc[['北京','上海'],['name','year']])\n",
    "#显示year>=2002的name和year信息\n",
    "display(df5.loc[df5['year']>=2002,['name','year']])"
   ]
  },
  {
   "cell_type": "markdown",
   "id": "dc63d2e6609dec4f",
   "metadata": {},
   "source": [
    "DataFrame行和列的选取还可以通过Pandas的query方法实现。  \n"
   ]
  },
  {
   "cell_type": "code",
   "execution_count": 26,
   "id": "ed192e71296097f0",
   "metadata": {
    "ExecuteTime": {
     "end_time": "2023-10-23T13:30:45.456798700Z",
     "start_time": "2023-10-23T13:30:44.647427400Z"
    }
   },
   "outputs": [
    {
     "data": {
      "text/html": [
       "<div>\n",
       "<style scoped>\n",
       "    .dataframe tbody tr th:only-of-type {\n",
       "        vertical-align: middle;\n",
       "    }\n",
       "\n",
       "    .dataframe tbody tr th {\n",
       "        vertical-align: top;\n",
       "    }\n",
       "\n",
       "    .dataframe thead th {\n",
       "        text-align: right;\n",
       "    }\n",
       "</style>\n",
       "<table border=\"1\" class=\"dataframe\">\n",
       "  <thead>\n",
       "    <tr style=\"text-align: right;\">\n",
       "      <th></th>\n",
       "      <th>name</th>\n",
       "      <th>year</th>\n",
       "      <th>sex</th>\n",
       "    </tr>\n",
       "    <tr>\n",
       "      <th>city</th>\n",
       "      <th></th>\n",
       "      <th></th>\n",
       "      <th></th>\n",
       "    </tr>\n",
       "  </thead>\n",
       "  <tbody>\n",
       "    <tr>\n",
       "      <th>广州</th>\n",
       "      <td>王五</td>\n",
       "      <td>2003</td>\n",
       "      <td>male</td>\n",
       "    </tr>\n",
       "    <tr>\n",
       "      <th>北京</th>\n",
       "      <td>小明</td>\n",
       "      <td>2002</td>\n",
       "      <td>male</td>\n",
       "    </tr>\n",
       "  </tbody>\n",
       "</table>\n",
       "</div>"
      ],
      "text/plain": [
       "     name  year   sex\n",
       "city                 \n",
       "广州     王五  2003  male\n",
       "北京     小明  2002  male"
      ]
     },
     "metadata": {},
     "output_type": "display_data"
    },
    {
     "data": {
      "text/html": [
       "<div>\n",
       "<style scoped>\n",
       "    .dataframe tbody tr th:only-of-type {\n",
       "        vertical-align: middle;\n",
       "    }\n",
       "\n",
       "    .dataframe tbody tr th {\n",
       "        vertical-align: top;\n",
       "    }\n",
       "\n",
       "    .dataframe thead th {\n",
       "        text-align: right;\n",
       "    }\n",
       "</style>\n",
       "<table border=\"1\" class=\"dataframe\">\n",
       "  <thead>\n",
       "    <tr style=\"text-align: right;\">\n",
       "      <th></th>\n",
       "      <th>name</th>\n",
       "      <th>year</th>\n",
       "      <th>sex</th>\n",
       "    </tr>\n",
       "    <tr>\n",
       "      <th>city</th>\n",
       "      <th></th>\n",
       "      <th></th>\n",
       "      <th></th>\n",
       "    </tr>\n",
       "  </thead>\n",
       "  <tbody>\n",
       "    <tr>\n",
       "      <th>北京</th>\n",
       "      <td>小明</td>\n",
       "      <td>2002</td>\n",
       "      <td>male</td>\n",
       "    </tr>\n",
       "  </tbody>\n",
       "</table>\n",
       "</div>"
      ],
      "text/plain": [
       "     name  year   sex\n",
       "city                 \n",
       "北京     小明  2002  male"
      ]
     },
     "metadata": {},
     "output_type": "display_data"
    }
   ],
   "source": [
    "display(df5.query('year>2001'))\n",
    "display(df5.query('year>2001&year<2003'))"
   ]
  },
  {
   "cell_type": "markdown",
   "id": "594469ab5dc8f6e9",
   "metadata": {},
   "source": [
    "4. 布尔选择  \n",
    "    可以对DataFrame中的数据进行布尔方式选择。\n"
   ]
  },
  {
   "cell_type": "code",
   "execution_count": 27,
   "id": "45ea9318e14cdf3",
   "metadata": {
    "ExecuteTime": {
     "end_time": "2023-10-23T13:30:45.458779400Z",
     "start_time": "2023-10-23T13:30:44.668959200Z"
    }
   },
   "outputs": [
    {
     "data": {
      "text/html": [
       "<div>\n",
       "<style scoped>\n",
       "    .dataframe tbody tr th:only-of-type {\n",
       "        vertical-align: middle;\n",
       "    }\n",
       "\n",
       "    .dataframe tbody tr th {\n",
       "        vertical-align: top;\n",
       "    }\n",
       "\n",
       "    .dataframe thead th {\n",
       "        text-align: right;\n",
       "    }\n",
       "</style>\n",
       "<table border=\"1\" class=\"dataframe\">\n",
       "  <thead>\n",
       "    <tr style=\"text-align: right;\">\n",
       "      <th></th>\n",
       "      <th>name</th>\n",
       "      <th>year</th>\n",
       "      <th>sex</th>\n",
       "    </tr>\n",
       "    <tr>\n",
       "      <th>city</th>\n",
       "      <th></th>\n",
       "      <th></th>\n",
       "      <th></th>\n",
       "    </tr>\n",
       "  </thead>\n",
       "  <tbody>\n",
       "    <tr>\n",
       "      <th>北京</th>\n",
       "      <td>张三</td>\n",
       "      <td>2001</td>\n",
       "      <td>female</td>\n",
       "    </tr>\n",
       "    <tr>\n",
       "      <th>上海</th>\n",
       "      <td>李四</td>\n",
       "      <td>2001</td>\n",
       "      <td>female</td>\n",
       "    </tr>\n",
       "  </tbody>\n",
       "</table>\n",
       "</div>"
      ],
      "text/plain": [
       "     name  year     sex\n",
       "city                   \n",
       "北京     张三  2001  female\n",
       "上海     李四  2001  female"
      ]
     },
     "execution_count": 27,
     "metadata": {},
     "output_type": "execute_result"
    }
   ],
   "source": [
    "df5[df5['year']==2001]"
   ]
  },
  {
   "cell_type": "markdown",
   "id": "e4505f381d4979a9",
   "metadata": {},
   "source": [
    "### DataFrame数据的编辑\n",
    "1. 增加数据   \n",
    "增加一行直接通过append方法传入字典结构数据即可。     \n",
    "这种方法已经失效，要用pd.concat()\n"
   ]
  },
  {
   "cell_type": "code",
   "execution_count": 28,
   "id": "1e06e3a38a47c4cf",
   "metadata": {
    "ExecuteTime": {
     "end_time": "2023-10-23T13:30:45.459782Z",
     "start_time": "2023-10-23T13:30:44.684304700Z"
    }
   },
   "outputs": [
    {
     "data": {
      "text/html": [
       "<div>\n",
       "<style scoped>\n",
       "    .dataframe tbody tr th:only-of-type {\n",
       "        vertical-align: middle;\n",
       "    }\n",
       "\n",
       "    .dataframe tbody tr th {\n",
       "        vertical-align: top;\n",
       "    }\n",
       "\n",
       "    .dataframe thead th {\n",
       "        text-align: right;\n",
       "    }\n",
       "</style>\n",
       "<table border=\"1\" class=\"dataframe\">\n",
       "  <thead>\n",
       "    <tr style=\"text-align: right;\">\n",
       "      <th></th>\n",
       "      <th>name</th>\n",
       "      <th>year</th>\n",
       "      <th>sex</th>\n",
       "      <th>city</th>\n",
       "    </tr>\n",
       "  </thead>\n",
       "  <tbody>\n",
       "    <tr>\n",
       "      <th>0</th>\n",
       "      <td>张三</td>\n",
       "      <td>2001</td>\n",
       "      <td>female</td>\n",
       "      <td>NaN</td>\n",
       "    </tr>\n",
       "    <tr>\n",
       "      <th>1</th>\n",
       "      <td>李四</td>\n",
       "      <td>2001</td>\n",
       "      <td>female</td>\n",
       "      <td>NaN</td>\n",
       "    </tr>\n",
       "    <tr>\n",
       "      <th>2</th>\n",
       "      <td>王五</td>\n",
       "      <td>2003</td>\n",
       "      <td>male</td>\n",
       "      <td>NaN</td>\n",
       "    </tr>\n",
       "    <tr>\n",
       "      <th>3</th>\n",
       "      <td>小明</td>\n",
       "      <td>2002</td>\n",
       "      <td>male</td>\n",
       "      <td>NaN</td>\n",
       "    </tr>\n",
       "    <tr>\n",
       "      <th>4</th>\n",
       "      <td>李红</td>\n",
       "      <td>2005</td>\n",
       "      <td>female</td>\n",
       "      <td>兰州</td>\n",
       "    </tr>\n",
       "  </tbody>\n",
       "</table>\n",
       "</div>"
      ],
      "text/plain": [
       "  name  year     sex city\n",
       "0   张三  2001  female  NaN\n",
       "1   李四  2001  female  NaN\n",
       "2   王五  2003    male  NaN\n",
       "3   小明  2002    male  NaN\n",
       "4   李红  2005  female   兰州"
      ]
     },
     "execution_count": 28,
     "metadata": {},
     "output_type": "execute_result"
    }
   ],
   "source": [
    "data1={'city':'兰州','name':'李红','year':2005,'sex':'female'}\n",
    "# df.concat(data1,ignore_index=True)\n",
    "pd.concat([df5,pd.DataFrame([data1])],ignore_index=True)"
   ]
  },
  {
   "cell_type": "markdown",
   "id": "d86090decd09ae11",
   "metadata": {},
   "source": [
    "增加列时，只需为要增加的列赋值即可创建一个新的列。若要指定新增列的位置，可以用insert函数。\n"
   ]
  },
  {
   "cell_type": "code",
   "execution_count": 29,
   "id": "6e196bafa08ac78e",
   "metadata": {
    "ExecuteTime": {
     "end_time": "2023-10-23T13:30:45.460783Z",
     "start_time": "2023-10-23T13:30:44.695571Z"
    }
   },
   "outputs": [
    {
     "data": {
      "text/html": [
       "<div>\n",
       "<style scoped>\n",
       "    .dataframe tbody tr th:only-of-type {\n",
       "        vertical-align: middle;\n",
       "    }\n",
       "\n",
       "    .dataframe tbody tr th {\n",
       "        vertical-align: top;\n",
       "    }\n",
       "\n",
       "    .dataframe thead th {\n",
       "        text-align: right;\n",
       "    }\n",
       "</style>\n",
       "<table border=\"1\" class=\"dataframe\">\n",
       "  <thead>\n",
       "    <tr style=\"text-align: right;\">\n",
       "      <th></th>\n",
       "      <th>name</th>\n",
       "      <th>No</th>\n",
       "      <th>sex</th>\n",
       "      <th>year</th>\n",
       "      <th>city</th>\n",
       "      <th>score</th>\n",
       "    </tr>\n",
       "  </thead>\n",
       "  <tbody>\n",
       "    <tr>\n",
       "      <th>0</th>\n",
       "      <td>张三</td>\n",
       "      <td>001</td>\n",
       "      <td>female</td>\n",
       "      <td>2001</td>\n",
       "      <td>北京</td>\n",
       "      <td>85</td>\n",
       "    </tr>\n",
       "    <tr>\n",
       "      <th>1</th>\n",
       "      <td>李四</td>\n",
       "      <td>002</td>\n",
       "      <td>female</td>\n",
       "      <td>2001</td>\n",
       "      <td>上海</td>\n",
       "      <td>78</td>\n",
       "    </tr>\n",
       "    <tr>\n",
       "      <th>2</th>\n",
       "      <td>王五</td>\n",
       "      <td>003</td>\n",
       "      <td>male</td>\n",
       "      <td>2003</td>\n",
       "      <td>广州</td>\n",
       "      <td>96</td>\n",
       "    </tr>\n",
       "    <tr>\n",
       "      <th>3</th>\n",
       "      <td>小明</td>\n",
       "      <td>004</td>\n",
       "      <td>male</td>\n",
       "      <td>2002</td>\n",
       "      <td>北京</td>\n",
       "      <td>80</td>\n",
       "    </tr>\n",
       "  </tbody>\n",
       "</table>\n",
       "</div>"
      ],
      "text/plain": [
       "  name   No     sex  year city  score\n",
       "0   张三  001  female  2001   北京     85\n",
       "1   李四  002  female  2001   上海     78\n",
       "2   王五  003    male  2003   广州     96\n",
       "3   小明  004    male  2002   北京     80"
      ]
     },
     "execution_count": 29,
     "metadata": {},
     "output_type": "execute_result"
    }
   ],
   "source": [
    "df['score']=[85,78,96,80]\n",
    "df.insert(1,'No',['001','002','003','004'])\n",
    "df"
   ]
  },
  {
   "cell_type": "markdown",
   "id": "c0bdc146fc2f49cc",
   "metadata": {},
   "source": [
    "2. 删除数据  \n",
    "删除数据直接用drop方法，通过axis参数确定是删除的是行还是列。默认数据删除不修改原数据，需要在原数据删除行列需要设置参数inplace = True。\n",
    "\n"
   ]
  },
  {
   "cell_type": "code",
   "execution_count": 30,
   "id": "9e50dd6e1896f6cd",
   "metadata": {
    "ExecuteTime": {
     "end_time": "2023-10-23T13:30:45.461777Z",
     "start_time": "2023-10-23T13:30:44.700323500Z"
    }
   },
   "outputs": [
    {
     "data": {
      "text/html": [
       "<div>\n",
       "<style scoped>\n",
       "    .dataframe tbody tr th:only-of-type {\n",
       "        vertical-align: middle;\n",
       "    }\n",
       "\n",
       "    .dataframe tbody tr th {\n",
       "        vertical-align: top;\n",
       "    }\n",
       "\n",
       "    .dataframe thead th {\n",
       "        text-align: right;\n",
       "    }\n",
       "</style>\n",
       "<table border=\"1\" class=\"dataframe\">\n",
       "  <thead>\n",
       "    <tr style=\"text-align: right;\">\n",
       "      <th></th>\n",
       "      <th>name</th>\n",
       "      <th>year</th>\n",
       "      <th>sex</th>\n",
       "      <th>age</th>\n",
       "      <th>C</th>\n",
       "    </tr>\n",
       "    <tr>\n",
       "      <th>city</th>\n",
       "      <th></th>\n",
       "      <th></th>\n",
       "      <th></th>\n",
       "      <th></th>\n",
       "      <th></th>\n",
       "    </tr>\n",
       "  </thead>\n",
       "  <tbody>\n",
       "    <tr>\n",
       "      <th>北京</th>\n",
       "      <td>张三</td>\n",
       "      <td>2001</td>\n",
       "      <td>female</td>\n",
       "      <td>20</td>\n",
       "      <td>85</td>\n",
       "    </tr>\n",
       "    <tr>\n",
       "      <th>上海</th>\n",
       "      <td>李四</td>\n",
       "      <td>2001</td>\n",
       "      <td>female</td>\n",
       "      <td>20</td>\n",
       "      <td>78</td>\n",
       "    </tr>\n",
       "    <tr>\n",
       "      <th>广州</th>\n",
       "      <td>王五</td>\n",
       "      <td>2003</td>\n",
       "      <td>male</td>\n",
       "      <td>20</td>\n",
       "      <td>96</td>\n",
       "    </tr>\n",
       "    <tr>\n",
       "      <th>北京</th>\n",
       "      <td>小明</td>\n",
       "      <td>2002</td>\n",
       "      <td>male</td>\n",
       "      <td>20</td>\n",
       "      <td>80</td>\n",
       "    </tr>\n",
       "  </tbody>\n",
       "</table>\n",
       "</div>"
      ],
      "text/plain": [
       "     name  year     sex  age   C\n",
       "city                            \n",
       "北京     张三  2001  female   20  85\n",
       "上海     李四  2001  female   20  78\n",
       "广州     王五  2003    male   20  96\n",
       "北京     小明  2002    male   20  80"
      ]
     },
     "execution_count": 30,
     "metadata": {},
     "output_type": "execute_result"
    }
   ],
   "source": [
    "df5['age']=[20,20,20,20]\n",
    "df5['C']=[85,78,96,80]\n",
    "df5"
   ]
  },
  {
   "cell_type": "code",
   "execution_count": 31,
   "id": "bc95c1c856ccf289",
   "metadata": {
    "ExecuteTime": {
     "end_time": "2023-10-23T13:30:45.462777900Z",
     "start_time": "2023-10-23T13:30:44.716043400Z"
    }
   },
   "outputs": [
    {
     "name": "stdout",
     "output_type": "stream",
     "text": [
      "     name  year     sex  age   C\n",
      "city                            \n",
      "北京     张三  2001  female   20  85\n",
      "上海     李四  2001  female   20  78\n",
      "北京     小明  2002    male   20  80\n"
     ]
    }
   ],
   "source": [
    "print(df5.drop('广州'))"
   ]
  },
  {
   "cell_type": "code",
   "execution_count": 32,
   "id": "c86d4377dc8ee1ff",
   "metadata": {
    "ExecuteTime": {
     "end_time": "2023-10-23T13:30:45.462777900Z",
     "start_time": "2023-10-23T13:30:44.722996600Z"
    }
   },
   "outputs": [
    {
     "name": "stdout",
     "output_type": "stream",
     "text": [
      "     name  year     sex   C\n",
      "city                       \n",
      "北京     张三  2001  female  85\n",
      "上海     李四  2001  female  78\n",
      "广州     王五  2003    male  96\n",
      "北京     小明  2002    male  80\n"
     ]
    }
   ],
   "source": [
    "df5.drop('age',axis=1,inplace=True)\n",
    "print(df5)"
   ]
  },
  {
   "cell_type": "markdown",
   "id": "877e8d9c57cc9bc8",
   "metadata": {},
   "source": [
    "3. 修改数据  \n",
    "修改数据时直接对选择的数据赋值即可。    \n",
    "需要注意的是，数据修改是直接对DataFrame数据修改，操作无法撤销，因此更改数据时要做好数据备份。\n"
   ]
  },
  {
   "cell_type": "code",
   "execution_count": 33,
   "id": "efe9519683043c73",
   "metadata": {
    "ExecuteTime": {
     "end_time": "2023-10-23T13:30:45.463776700Z",
     "start_time": "2023-10-23T13:30:44.735276600Z"
    }
   },
   "outputs": [
    {
     "name": "stdout",
     "output_type": "stream",
     "text": [
      "     ax    bx    cx    dx    ex\n",
      "a   NaN   NaN   NaN   NaN   NaN\n",
      "b   NaN   NaN   NaN   NaN   NaN\n",
      "c   NaN   NaN   NaN   NaN   NaN\n",
      "d   NaN   NaN   NaN   NaN   NaN\n",
      "e   NaN  31.0  32.0  33.0  34.0\n",
      "f  35.0  36.0  37.0  38.0  39.0\n",
      "g  40.0  41.0  42.0  43.0  44.0\n",
      "h  45.0  46.0  47.0  48.0  49.0\n",
      "i  50.0  51.0  52.0  53.0  54.0\n",
      "j  55.0  56.0  57.0  58.0  59.0\n"
     ]
    }
   ],
   "source": [
    "val=np.arange(10,60).reshape(10,5)\n",
    "col=[\"ax\",\"bx\",\"cx\",\"dx\",\"ex\"]\n",
    "idx=list(\"abcdefghij\")\n",
    "df1=pd.DataFrame(val,index=idx,columns=col)\n",
    "# print(df1>30)\n",
    "print(df1[df1>30])\n",
    "df1[df1>30]=100\n",
    "# print(df1)"
   ]
  },
  {
   "cell_type": "markdown",
   "id": "da88ac67ce7900a1",
   "metadata": {},
   "source": [
    "还可以使用replace进行数据的替换，用法如下：  \n",
    "DataFrame.replace(to_replace=None,value=None,inplace=False,limit=None,regex=False,method='pad')    \n",
    "其中主要参数to_replace表示被替换的值，value表示替换后的值。同时替换多个值时使用字典数据，如DataFrame.replace({'B':'E','C':'F'})表示将表中的B替换为E，C替换为F。  \n"
   ]
  },
  {
   "cell_type": "markdown",
   "id": "f106e174f122ea36",
   "metadata": {},
   "source": [
    "4. 修改列名   \n",
    "Pandas通过DataFrame.rename()函数，传入需要修改列名的字典形式来修改列名。\n"
   ]
  },
  {
   "cell_type": "code",
   "execution_count": 34,
   "id": "4629d2559cac97c9",
   "metadata": {
    "ExecuteTime": {
     "end_time": "2023-10-23T13:30:45.464777900Z",
     "start_time": "2023-10-23T13:30:44.751077Z"
    }
   },
   "outputs": [
    {
     "data": {
      "text/html": [
       "<div>\n",
       "<style scoped>\n",
       "    .dataframe tbody tr th:only-of-type {\n",
       "        vertical-align: middle;\n",
       "    }\n",
       "\n",
       "    .dataframe tbody tr th {\n",
       "        vertical-align: top;\n",
       "    }\n",
       "\n",
       "    .dataframe thead th {\n",
       "        text-align: right;\n",
       "    }\n",
       "</style>\n",
       "<table border=\"1\" class=\"dataframe\">\n",
       "  <thead>\n",
       "    <tr style=\"text-align: right;\">\n",
       "      <th></th>\n",
       "      <th>name</th>\n",
       "      <th>year</th>\n",
       "      <th>sex</th>\n",
       "      <th>C</th>\n",
       "    </tr>\n",
       "    <tr>\n",
       "      <th>city</th>\n",
       "      <th></th>\n",
       "      <th></th>\n",
       "      <th></th>\n",
       "      <th></th>\n",
       "    </tr>\n",
       "  </thead>\n",
       "  <tbody>\n",
       "    <tr>\n",
       "      <th>北京</th>\n",
       "      <td>张三</td>\n",
       "      <td>2001</td>\n",
       "      <td>female</td>\n",
       "      <td>85</td>\n",
       "    </tr>\n",
       "    <tr>\n",
       "      <th>上海</th>\n",
       "      <td>李四</td>\n",
       "      <td>2001</td>\n",
       "      <td>female</td>\n",
       "      <td>78</td>\n",
       "    </tr>\n",
       "    <tr>\n",
       "      <th>广州</th>\n",
       "      <td>王五</td>\n",
       "      <td>2003</td>\n",
       "      <td>male</td>\n",
       "      <td>96</td>\n",
       "    </tr>\n",
       "    <tr>\n",
       "      <th>北京</th>\n",
       "      <td>小明</td>\n",
       "      <td>2002</td>\n",
       "      <td>male</td>\n",
       "      <td>80</td>\n",
       "    </tr>\n",
       "  </tbody>\n",
       "</table>\n",
       "</div>"
      ],
      "text/plain": [
       "     name  year     sex   C\n",
       "city                       \n",
       "北京     张三  2001  female  85\n",
       "上海     李四  2001  female  78\n",
       "广州     王五  2003    male  96\n",
       "北京     小明  2002    male  80"
      ]
     },
     "metadata": {},
     "output_type": "display_data"
    }
   ],
   "source": [
    "df5.rename(columns={'no':'number'},inplace=True)\n",
    "display(df5)"
   ]
  },
  {
   "cell_type": "markdown",
   "id": "9ebaab0dda51c10b",
   "metadata": {},
   "source": [
    "### 算术运算  \n",
    "Pandas的数据对象在进行算术运算时，如果有相同索引则进行算术运算，如果没有，则会自动进行数据对齐，但会引入缺失值。\n"
   ]
  },
  {
   "cell_type": "code",
   "execution_count": 35,
   "id": "3b0526a81903ccd1",
   "metadata": {
    "ExecuteTime": {
     "end_time": "2023-10-23T13:30:45.464777900Z",
     "start_time": "2023-10-23T13:30:44.763869400Z"
    }
   },
   "outputs": [
    {
     "name": "stdout",
     "output_type": "stream",
     "text": [
      "obj1:\n",
      " a     5.1\n",
      "c    -2.6\n",
      "g     7.8\n",
      "f    10.0\n",
      "dtype: float64\n",
      "obj2:\n",
      " a    2.6\n",
      "b   -2.8\n",
      "g    3.7\n",
      "h   -1.9\n",
      "dtype: float64\n",
      "a     7.7\n",
      "b     NaN\n",
      "c     NaN\n",
      "f     NaN\n",
      "g    11.5\n",
      "h     NaN\n",
      "dtype: float64\n"
     ]
    }
   ],
   "source": [
    "obj1=pd.Series([5.1,-2.6,7.8,10],index=['a','c','g','f'])\n",
    "print('obj1:\\n',obj1)\n",
    "obj2=pd.Series([2.6,-2.8,3.7,-1.9],index=['a','b','g','h'])\n",
    "print('obj2:\\n',obj2)\n",
    "print(obj1+obj2)"
   ]
  },
  {
   "cell_type": "markdown",
   "id": "a4d36b2091e4ef8a",
   "metadata": {},
   "source": [
    "DataFrame类型的数据相加"
   ]
  },
  {
   "cell_type": "code",
   "execution_count": 36,
   "id": "d3ec13be2c5bddbd",
   "metadata": {
    "ExecuteTime": {
     "end_time": "2023-10-23T13:30:45.465777700Z",
     "start_time": "2023-10-23T13:30:44.772804300Z"
    }
   },
   "outputs": [
    {
     "name": "stdout",
     "output_type": "stream",
     "text": [
      "df1:\n",
      "    a  b  e\n",
      "A  0  1  2\n",
      "C  3  4  5\n",
      "df2:\n",
      "    a  b\n",
      "A  0  1\n",
      "D  2  3\n",
      "df1+df2:\n",
      "      a    b   e\n",
      "A  0.0  2.0 NaN\n",
      "C  NaN  NaN NaN\n",
      "D  NaN  NaN NaN\n"
     ]
    }
   ],
   "source": [
    "a=np.arange(6).reshape(2,3)\n",
    "b=np.arange(4).reshape(2,2)\n",
    "df1=pd.DataFrame(a,columns=['a','b','e'],index=['A','C'])\n",
    "print('df1:\\n',df1)\n",
    "df2=pd.DataFrame(b,columns=['a','b'],index=['A','D'])\n",
    "print('df2:\\n',df2)\n",
    "print('df1+df2:\\n',df1+df2)"
   ]
  },
  {
   "cell_type": "markdown",
   "id": "9d5c7762e9c3d06f",
   "metadata": {},
   "source": [
    "### 函数应用和映射  \n",
    "已定义好的函数可以通过以下三种方法应用到数据：     \n",
    "1. map函数：将函数套用到Series的每个元素中；   \n",
    "2. apply函数，将函数套用到DataFrame的行或列上，行与列通过axis参数设置；  \n",
    "3. applymap函数，将函数套用到DataFrame的每个元素上  \n",
    "\n",
    "  \n",
    "将水果价格表中的“元”去掉。"
   ]
  },
  {
   "cell_type": "code",
   "execution_count": 37,
   "id": "e66c959cbcc82198",
   "metadata": {
    "ExecuteTime": {
     "end_time": "2023-10-23T13:30:45.465777700Z",
     "start_time": "2023-10-23T13:30:44.790439500Z"
    }
   },
   "outputs": [
    {
     "name": "stdout",
     "output_type": "stream",
     "text": [
      "    fruit price\n",
      "0   apple   30元\n",
      "1   grape   43元\n",
      "2  banana   28元\n",
      "修改后的数据表:\n",
      "     fruit price\n",
      "0   apple    30\n",
      "1   grape    43\n",
      "2  banana    28\n"
     ]
    }
   ],
   "source": [
    "data={'fruit':['apple','grape','banana'],'price':['30元','43元','28元']}\n",
    "df1=pd.DataFrame(data)\n",
    "print(df1)\n",
    "def f(x):\n",
    "    return x.split('元')[0]\n",
    "df1['price']=df1['price'].map(f)\n",
    "print('修改后的数据表:\\n',df1)"
   ]
  },
  {
   "cell_type": "code",
   "execution_count": 38,
   "id": "2e5b6d15fe9c18ef",
   "metadata": {
    "ExecuteTime": {
     "end_time": "2023-10-23T13:30:45.465777700Z",
     "start_time": "2023-10-23T13:30:44.797919400Z"
    }
   },
   "outputs": [
    {
     "name": "stdout",
     "output_type": "stream",
     "text": [
      "    fruit price\n",
      "0   apple   30元\n",
      "1   grape   43元\n",
      "2  banana   28元\n",
      "修改后的数据表:\n",
      "     fruit price\n",
      "0   apple    30\n",
      "1   grape    43\n",
      "2  banana    28\n"
     ]
    }
   ],
   "source": [
    "data={'fruit':['apple','grape','banana'],'price':['30元','43元','28元']}\n",
    "df1=pd.DataFrame(data)\n",
    "print(df1)\n",
    "def f(x):\n",
    "    return x.split('元')[0]\n",
    "df1['price']=df1['price'].map(f)\n",
    "print('修改后的数据表:\\n',df1)"
   ]
  },
  {
   "cell_type": "markdown",
   "id": "99edfd6bd15609aa",
   "metadata": {},
   "source": [
    "apply函数的使用方法"
   ]
  },
  {
   "cell_type": "code",
   "execution_count": 39,
   "id": "8e55436e12b9703f",
   "metadata": {
    "ExecuteTime": {
     "end_time": "2023-10-23T13:30:45.466776100Z",
     "start_time": "2023-10-23T13:30:44.808490Z"
    }
   },
   "outputs": [
    {
     "name": "stdout",
     "output_type": "stream",
     "text": [
      "          a         b         c\n",
      "0 -0.162052  0.927964 -0.677067\n",
      "1  0.165990  1.095560 -0.021343\n",
      "2  0.308484  0.757136  1.632360\n"
     ]
    },
    {
     "data": {
      "text/plain": [
       "a    0.104141\n",
       "b    0.926887\n",
       "c    0.311317\n",
       "dtype: float64"
      ]
     },
     "execution_count": 39,
     "metadata": {},
     "output_type": "execute_result"
    }
   ],
   "source": [
    "df2=pd.DataFrame(np.random.randn(3,3),columns=['a','b','c'])\n",
    "index=['app','win','mac']\n",
    "print(df2)\n",
    "df2.apply(np.mean)"
   ]
  },
  {
   "cell_type": "markdown",
   "id": "3b5c8b60cc8ea9ca",
   "metadata": {},
   "source": [
    "applymap函数的用法"
   ]
  },
  {
   "cell_type": "code",
   "execution_count": 40,
   "id": "c15a2f3bd03c438e",
   "metadata": {
    "ExecuteTime": {
     "end_time": "2023-10-23T13:30:45.467777400Z",
     "start_time": "2023-10-23T13:30:44.817485900Z"
    }
   },
   "outputs": [
    {
     "name": "stdout",
     "output_type": "stream",
     "text": [
      "          a         b         c\n",
      "0 -0.162052  0.927964 -0.677067\n",
      "1  0.165990  1.095560 -0.021343\n",
      "2  0.308484  0.757136  1.632360\n"
     ]
    },
    {
     "data": {
      "text/html": [
       "<div>\n",
       "<style scoped>\n",
       "    .dataframe tbody tr th:only-of-type {\n",
       "        vertical-align: middle;\n",
       "    }\n",
       "\n",
       "    .dataframe tbody tr th {\n",
       "        vertical-align: top;\n",
       "    }\n",
       "\n",
       "    .dataframe thead th {\n",
       "        text-align: right;\n",
       "    }\n",
       "</style>\n",
       "<table border=\"1\" class=\"dataframe\">\n",
       "  <thead>\n",
       "    <tr style=\"text-align: right;\">\n",
       "      <th></th>\n",
       "      <th>a</th>\n",
       "      <th>b</th>\n",
       "      <th>c</th>\n",
       "    </tr>\n",
       "  </thead>\n",
       "  <tbody>\n",
       "    <tr>\n",
       "      <th>0</th>\n",
       "      <td>-0.162</td>\n",
       "      <td>0.928</td>\n",
       "      <td>-0.677</td>\n",
       "    </tr>\n",
       "    <tr>\n",
       "      <th>1</th>\n",
       "      <td>0.166</td>\n",
       "      <td>1.096</td>\n",
       "      <td>-0.021</td>\n",
       "    </tr>\n",
       "    <tr>\n",
       "      <th>2</th>\n",
       "      <td>0.308</td>\n",
       "      <td>0.757</td>\n",
       "      <td>1.632</td>\n",
       "    </tr>\n",
       "  </tbody>\n",
       "</table>\n",
       "</div>"
      ],
      "text/plain": [
       "        a      b       c\n",
       "0  -0.162  0.928  -0.677\n",
       "1   0.166  1.096  -0.021\n",
       "2   0.308  0.757   1.632"
      ]
     },
     "execution_count": 40,
     "metadata": {},
     "output_type": "execute_result"
    }
   ],
   "source": [
    "print(df2)\n",
    "df2.applymap(lambda x:'%.3f'%x)"
   ]
  },
  {
   "cell_type": "markdown",
   "id": "fbf98a127e268c19",
   "metadata": {},
   "source": [
    "### 排序  \n",
    "sort_index方法：对索引进行排序，默认为升序，降序排序时加参数 ascending=False。    \n",
    "sort_values方法：对数值进行排序。by参数设置待排序的列名\n",
    "\n"
   ]
  },
  {
   "cell_type": "code",
   "execution_count": 41,
   "id": "80d53387717b7b6b",
   "metadata": {
    "ExecuteTime": {
     "end_time": "2023-10-23T13:30:45.467777400Z",
     "start_time": "2023-10-23T13:30:44.834839200Z"
    }
   },
   "outputs": [
    {
     "name": "stdout",
     "output_type": "stream",
     "text": [
      "c    1\n",
      "b   -2\n",
      "a    4\n",
      "d   -4\n",
      "dtype: int64\n",
      "排序后的 Series:\n",
      " a    4\n",
      "b   -2\n",
      "c    1\n",
      "d   -4\n",
      "dtype: int64\n"
     ]
    }
   ],
   "source": [
    "wy=pd.Series([1,-2,4,-4],index=['c','b','a','d'])\n",
    "print(wy)\n",
    "print('排序后的 Series:\\n',wy.sort_index())"
   ]
  },
  {
   "cell_type": "code",
   "execution_count": 42,
   "id": "3d9992148afa7aeb",
   "metadata": {
    "ExecuteTime": {
     "end_time": "2023-10-23T13:30:45.467777400Z",
     "start_time": "2023-10-23T13:30:44.838356500Z"
    }
   },
   "outputs": [
    {
     "name": "stdout",
     "output_type": "stream",
     "text": [
      "值排序后的 Series:\n",
      " d   -4\n",
      "b   -2\n",
      "c    1\n",
      "a    4\n",
      "dtype: int64\n"
     ]
    }
   ],
   "source": [
    "print('值排序后的 Series:\\n',wy.sort_values())"
   ]
  },
  {
   "cell_type": "markdown",
   "id": "ae723493d91a3550",
   "metadata": {},
   "source": [
    "对于DataFrame数据排序，通过指定轴方向，使用sort_index函数对行或列索引进行排序。如果要进行列排序，则通过sort_values函数把列名传给by参数即可。  \n",
    "### 排序  \n",
    "对于DataFrame数据排序，通过指定轴方向，使用sort_index函数对行或列索引进行排序。如果要进行列排序，则通过sort_values函数把列名传给by参数即可。\n"
   ]
  },
  {
   "cell_type": "code",
   "execution_count": 43,
   "id": "91ef8d4003c291d7",
   "metadata": {
    "ExecuteTime": {
     "end_time": "2023-10-23T13:30:45.467777400Z",
     "start_time": "2023-10-23T13:30:44.850029Z"
    }
   },
   "outputs": [
    {
     "name": "stdout",
     "output_type": "stream",
     "text": [
      "   b  a  c\n",
      "2  1  4  1\n",
      "0  2  3  3\n",
      "1  3  2  8\n",
      "3  4  1  2\n",
      "   b  a  c\n",
      "2  1  4  1\n",
      "0  2  3  3\n",
      "1  3  2  8\n",
      "3  4  1  2\n",
      "   b  a  c\n",
      "3  4  1  2\n",
      "1  3  2  8\n",
      "0  2  3  3\n",
      "2  1  4  1\n",
      "   a  c  b\n",
      "2  4  1  1\n",
      "0  3  3  2\n",
      "1  2  8  3\n",
      "3  1  2  4\n",
      "   a  c  b\n",
      "2  4  1  1\n",
      "0  3  3  2\n",
      "1  2  8  3\n",
      "3  1  2  4\n"
     ]
    }
   ],
   "source": [
    "df=pd.DataFrame({'b':[1,2,3,4],'a':[4,3,2,1],'c':[1,3,8,2]},index=[2,0,1,3])\n",
    "print(df)\n",
    "df1=df.sort_values(by='b')\n",
    "print(df1)\n",
    "df2=df.sort_values(by=['b','a'],axis=0,ascending=[False,True])\n",
    "print(df2)\n",
    "df3=df.sort_values(by=3,axis=1)\n",
    "print(df3)\n",
    "df4=df3.sort_values(by=[3,0],axis=1,ascending=[True,False])\n",
    "print(df4)"
   ]
  },
  {
   "cell_type": "code",
   "execution_count": 44,
   "id": "6a720a5321808a18",
   "metadata": {
    "ExecuteTime": {
     "end_time": "2023-10-23T13:32:57.677355300Z",
     "start_time": "2023-10-23T13:32:57.654760900Z"
    }
   },
   "outputs": [
    {
     "name": "stdout",
     "output_type": "stream",
     "text": [
      "   b  a  c\n",
      "0  2  3  3\n",
      "1  3  2  8\n",
      "2  1  4  1\n",
      "3  4  1  2\n"
     ]
    },
    {
     "data": {
      "text/html": [
       "<div>\n",
       "<style scoped>\n",
       "    .dataframe tbody tr th:only-of-type {\n",
       "        vertical-align: middle;\n",
       "    }\n",
       "\n",
       "    .dataframe tbody tr th {\n",
       "        vertical-align: top;\n",
       "    }\n",
       "\n",
       "    .dataframe thead th {\n",
       "        text-align: right;\n",
       "    }\n",
       "</style>\n",
       "<table border=\"1\" class=\"dataframe\">\n",
       "  <thead>\n",
       "    <tr style=\"text-align: right;\">\n",
       "      <th></th>\n",
       "      <th>a</th>\n",
       "      <th>b</th>\n",
       "      <th>c</th>\n",
       "    </tr>\n",
       "  </thead>\n",
       "  <tbody>\n",
       "    <tr>\n",
       "      <th>2</th>\n",
       "      <td>4</td>\n",
       "      <td>1</td>\n",
       "      <td>1</td>\n",
       "    </tr>\n",
       "    <tr>\n",
       "      <th>0</th>\n",
       "      <td>3</td>\n",
       "      <td>2</td>\n",
       "      <td>3</td>\n",
       "    </tr>\n",
       "    <tr>\n",
       "      <th>1</th>\n",
       "      <td>2</td>\n",
       "      <td>3</td>\n",
       "      <td>8</td>\n",
       "    </tr>\n",
       "    <tr>\n",
       "      <th>3</th>\n",
       "      <td>1</td>\n",
       "      <td>4</td>\n",
       "      <td>2</td>\n",
       "    </tr>\n",
       "  </tbody>\n",
       "</table>\n",
       "</div>"
      ],
      "text/plain": [
       "   a  b  c\n",
       "2  4  1  1\n",
       "0  3  2  3\n",
       "1  2  3  8\n",
       "3  1  4  2"
      ]
     },
     "execution_count": 44,
     "metadata": {},
     "output_type": "execute_result"
    }
   ],
   "source": [
    "df5=df.sort_index()\n",
    "print(df5)\n",
    "df.sort_index(axis=1)\n",
    "# df.sort_index(by=['b','a'],ascending=[False,True])\n",
    "# df.sort_index(by=['a','b'],ascending=[False,True])"
   ]
  },
  {
   "cell_type": "markdown",
   "id": "aec5764859087a14",
   "metadata": {},
   "source": [
    "### 汇总与统计  \n",
    "1. 数据汇总   \n",
    "在DataFrame中，可以通过sum方法对每列进行求和汇总，与Excel中的sum函数类似。如果设置axis = 1指定轴方向，可以实现按行汇总。\n",
    "\n"
   ]
  },
  {
   "cell_type": "code",
   "execution_count": 45,
   "id": "cefdddf8f8574aab",
   "metadata": {
    "ExecuteTime": {
     "end_time": "2023-10-23T13:34:16.089643900Z",
     "start_time": "2023-10-23T13:34:16.017360400Z"
    }
   },
   "outputs": [
    {
     "name": "stdout",
     "output_type": "stream",
     "text": [
      "   b  a  c\n",
      "2  1  4  1\n",
      "0  2  3  3\n",
      "1  3  2  8\n",
      "3  2  1  2\n",
      "b     8\n",
      "a    10\n",
      "c    14\n",
      "dtype: int64\n",
      "2     6\n",
      "0     8\n",
      "1    13\n",
      "3     5\n",
      "dtype: int64\n"
     ]
    }
   ],
   "source": [
    "df=pd.DataFrame({'b':[1,2,3,2],'a':[4,3,2,1],'c':[1,3,8,2]},index=[2,0,1,3])\n",
    "print(df)\n",
    "print(df.sum())\n",
    "print(df.sum(axis=1))"
   ]
  },
  {
   "cell_type": "markdown",
   "id": "9c394e910bba7a53",
   "metadata": {},
   "source": [
    "2. 数据描述与统计  \n",
    "利用describe方法会对每个数值型的列数据进行统计\n"
   ]
  },
  {
   "cell_type": "code",
   "execution_count": 46,
   "id": "6520dd17386f5710",
   "metadata": {
    "ExecuteTime": {
     "end_time": "2023-10-23T13:34:39.746744400Z",
     "start_time": "2023-10-23T13:34:39.690335500Z"
    }
   },
   "outputs": [
    {
     "name": "stdout",
     "output_type": "stream",
     "text": [
      "              b         a         c\n",
      "count  4.000000  4.000000  4.000000\n",
      "mean   2.000000  2.500000  3.500000\n",
      "std    0.816497  1.290994  3.109126\n",
      "min    1.000000  1.000000  1.000000\n",
      "25%    1.750000  1.750000  1.750000\n",
      "50%    2.000000  2.500000  2.500000\n",
      "75%    2.250000  3.250000  4.250000\n",
      "max    3.000000  4.000000  8.000000\n"
     ]
    }
   ],
   "source": [
    "print(df.describe())"
   ]
  },
  {
   "cell_type": "markdown",
   "id": "6cc8b1b3bef84bc1",
   "metadata": {},
   "source": [
    "对于类别型特征的描述性统计，可以使用频数统计表。Pandas库中通过unique方法获取不重复的数组，利用value_counts方法实现频数统计。\n"
   ]
  },
  {
   "cell_type": "code",
   "execution_count": 47,
   "id": "34beb1b67c680ccd",
   "metadata": {
    "ExecuteTime": {
     "end_time": "2023-10-23T13:35:19.880249Z",
     "start_time": "2023-10-23T13:35:19.861997700Z"
    }
   },
   "outputs": [
    {
     "name": "stdout",
     "output_type": "stream",
     "text": [
      "['a' 'b' 'c' 'd']\n",
      "a    2\n",
      "c    2\n",
      "b    1\n",
      "d    1\n",
      "Name: count, dtype: int64\n"
     ]
    }
   ],
   "source": [
    "obj=pd.Series(['a','b','c','a','d','c'])\n",
    "print(obj.unique())\n",
    "print(obj.value_counts())"
   ]
  },
  {
   "cell_type": "markdown",
   "id": "b1d495bdfbf93c44",
   "metadata": {},
   "source": [
    "### 数据分组   \n",
    "**groupby方法**  \n",
    "groupby方法可以根据索引或字段对数据进行分组。  \n",
    "格式为：  \n",
    "`DataFrame.groupby(by=None, axis=0, level=None, as_index=True, sort=True, group_keys=True, squeeze=False, **kwargs)`\n",
    "\n",
    "\n",
    "| 参数名称   | 参数说明                                                   |\n",
    "| ---------- | ---------------------------------------------------------- |\n",
    "| by         | 可以传入函数、字典、Series等，用于确定分组的依据           |\n",
    "| axis       | 接收int，表示操作的轴方向，默认为0                         |\n",
    "| level      | 接收int或索引名，代表标签所在级别，默认为None              |\n",
    "| as_index   | 接收boolean，表示聚合后的标签是否以DataFrame索引输出       |\n",
    "| sort       | 接收boolean，表示对分组依据和分组标签排序，默认为True      |\n",
    "| group_keys | 接收boolean，表示是否显示分组标签的名称，默认为True        |\n",
    "| squeeze    | 接收boolean，表示是否在允许情况下对返回数据降维，默认False |\n"
   ]
  },
  {
   "cell_type": "code",
   "execution_count": 48,
   "id": "9298ebc483ccb76d",
   "metadata": {
    "ExecuteTime": {
     "end_time": "2023-10-23T13:38:14.579066Z",
     "start_time": "2023-10-23T13:38:14.502759400Z"
    }
   },
   "outputs": [
    {
     "name": "stdout",
     "output_type": "stream",
     "text": [
      "key1\n",
      "a    3\n",
      "b    2\n",
      "Name: data1, dtype: int64\n",
      "key1\n",
      "a   -0.440542\n",
      "b    0.849526\n",
      "Name: data1, dtype: float64\n"
     ]
    }
   ],
   "source": [
    "import pandas as pd\n",
    "import numpy as np\n",
    "df=pd.DataFrame({'key1':['a','a','b','b','a'],'key2':['yes','no','yes','yes','no'],'data1':np.random.randn(5),'data2':np.random.randn(5)})\n",
    "grouped=df['data1'].groupby(df['key1'])\n",
    "print(grouped.size())\n",
    "print(grouped.mean())"
   ]
  },
  {
   "cell_type": "markdown",
   "id": "d9ec2178cb7f0860",
   "metadata": {},
   "source": [
    "2. 按列名分组    \n",
    "DataFrame数据的列索引名可以作为分组键，但需要注意的是用于分组的对象必须是DataFrame数据本身，否则搜索不到索引名称会报错。\n"
   ]
  },
  {
   "cell_type": "code",
   "execution_count": 49,
   "id": "506d93d674c8e582",
   "metadata": {
    "ExecuteTime": {
     "end_time": "2023-10-23T13:43:16.028722400Z",
     "start_time": "2023-10-23T13:43:16.009481900Z"
    }
   },
   "outputs": [
    {
     "data": {
      "text/html": [
       "<div>\n",
       "<style scoped>\n",
       "    .dataframe tbody tr th:only-of-type {\n",
       "        vertical-align: middle;\n",
       "    }\n",
       "\n",
       "    .dataframe tbody tr th {\n",
       "        vertical-align: top;\n",
       "    }\n",
       "\n",
       "    .dataframe thead th {\n",
       "        text-align: right;\n",
       "    }\n",
       "</style>\n",
       "<table border=\"1\" class=\"dataframe\">\n",
       "  <thead>\n",
       "    <tr style=\"text-align: right;\">\n",
       "      <th></th>\n",
       "      <th>data1</th>\n",
       "      <th>data2</th>\n",
       "    </tr>\n",
       "    <tr>\n",
       "      <th>key2</th>\n",
       "      <th></th>\n",
       "      <th></th>\n",
       "    </tr>\n",
       "  </thead>\n",
       "  <tbody>\n",
       "    <tr>\n",
       "      <th>no</th>\n",
       "      <td>-0.803525</td>\n",
       "      <td>-0.441184</td>\n",
       "    </tr>\n",
       "    <tr>\n",
       "      <th>yes</th>\n",
       "      <td>0.661492</td>\n",
       "      <td>0.249230</td>\n",
       "    </tr>\n",
       "  </tbody>\n",
       "</table>\n",
       "</div>"
      ],
      "text/plain": [
       "         data1     data2\n",
       "key2                    \n",
       "no   -0.803525 -0.441184\n",
       "yes   0.661492  0.249230"
      ]
     },
     "execution_count": 49,
     "metadata": {},
     "output_type": "execute_result"
    }
   ],
   "source": [
    "groupk1=df.groupby('key2')[['data1','data2']].mean()\n",
    "groupk1"
   ]
  },
  {
   "cell_type": "markdown",
   "id": "ae69936777e2d594",
   "metadata": {},
   "source": [
    "3. 按列表或元组分组   \n",
    "分组键还可以是长度和DataFrame行数相同的列表或元组，相当于将列表或元组看做DataFrame的一列，然后将其分组。\n"
   ]
  },
  {
   "cell_type": "code",
   "execution_count": 50,
   "id": "41e6965b6dadb9ab",
   "metadata": {
    "ExecuteTime": {
     "end_time": "2023-10-23T13:44:16.686228100Z",
     "start_time": "2023-10-23T13:44:16.661225600Z"
    }
   },
   "outputs": [
    {
     "data": {
      "text/html": [
       "<div>\n",
       "<style scoped>\n",
       "    .dataframe tbody tr th:only-of-type {\n",
       "        vertical-align: middle;\n",
       "    }\n",
       "\n",
       "    .dataframe tbody tr th {\n",
       "        vertical-align: top;\n",
       "    }\n",
       "\n",
       "    .dataframe thead th {\n",
       "        text-align: right;\n",
       "    }\n",
       "</style>\n",
       "<table border=\"1\" class=\"dataframe\">\n",
       "  <thead>\n",
       "    <tr style=\"text-align: right;\">\n",
       "      <th></th>\n",
       "      <th>key1</th>\n",
       "      <th>key2</th>\n",
       "      <th>data1</th>\n",
       "      <th>data2</th>\n",
       "    </tr>\n",
       "  </thead>\n",
       "  <tbody>\n",
       "    <tr>\n",
       "      <th>w</th>\n",
       "      <td>aab</td>\n",
       "      <td>yesnoyes</td>\n",
       "      <td>-0.403168</td>\n",
       "      <td>1.784686</td>\n",
       "    </tr>\n",
       "    <tr>\n",
       "      <th>y</th>\n",
       "      <td>ba</td>\n",
       "      <td>yesno</td>\n",
       "      <td>0.780596</td>\n",
       "      <td>-1.919366</td>\n",
       "    </tr>\n",
       "  </tbody>\n",
       "</table>\n",
       "</div>"
      ],
      "text/plain": [
       "  key1      key2     data1     data2\n",
       "w  aab  yesnoyes -0.403168  1.784686\n",
       "y   ba     yesno  0.780596 -1.919366"
      ]
     },
     "execution_count": 50,
     "metadata": {},
     "output_type": "execute_result"
    }
   ],
   "source": [
    "wlist=['w','w','y','w','y']\n",
    "df.groupby(wlist).sum()"
   ]
  },
  {
   "cell_type": "markdown",
   "id": "b5ed3745efee5c08",
   "metadata": {},
   "source": [
    "4. 按字典分组  \n",
    "如果原始的DataFrame中的分组信息很难确定或不存在，可以通过字典结构，定义分组信息。\n"
   ]
  },
  {
   "cell_type": "code",
   "execution_count": 51,
   "id": "39963518578fdbb2",
   "metadata": {
    "ExecuteTime": {
     "end_time": "2023-10-23T13:46:11.172484800Z",
     "start_time": "2023-10-23T13:46:11.079977600Z"
    }
   },
   "outputs": [
    {
     "name": "stdout",
     "output_type": "stream",
     "text": [
      "数据为:\n",
      "           0         1         2         3         4\n",
      "a  2.415958 -0.780980  0.249095  1.550790  0.748732\n",
      "b  0.499885  1.455544 -2.249211 -0.962832  0.300178\n",
      "c  0.137306  1.148110  0.509337 -2.122079  1.068068\n",
      "A -2.235334  0.271234 -0.420076 -0.021235 -2.685905\n",
      "B -1.262361  0.295175  0.617395 -0.105362 -0.233192\n",
      "c -1.020704  0.773052 -1.093057 -0.871411  0.378995\n",
      "分组汇总后的结果为:\n",
      "               0         1         2         3         4\n",
      "one    0.180623 -0.509746 -0.170982  1.529555 -1.937173\n",
      "three -0.883397  1.921163 -0.583719 -2.993491  1.447063\n",
      "two   -0.762476  1.750719 -1.631816 -1.068194  0.066985\n"
     ]
    }
   ],
   "source": [
    "df=pd.DataFrame(np.random.normal(size=(6,5)),index=['a','b','c','A','B','c'])\n",
    "print(\"数据为:\\n\",df)\n",
    "wdict={'a':'one','A':'one','b':'two','B':'two','c':'three'}\n",
    "print(\"分组汇总后的结果为:\\n\",df.groupby(wdict).sum())"
   ]
  },
  {
   "cell_type": "markdown",
   "id": "a78d669cdfcfbe94",
   "metadata": {},
   "source": [
    "5. 按函数分组    \n",
    "函数作为分组键的原理类似于字典，通过映射关系进行分组，但是函数更加灵活。\n"
   ]
  },
  {
   "cell_type": "code",
   "execution_count": 52,
   "id": "8be8cdf918cd4330",
   "metadata": {
    "ExecuteTime": {
     "end_time": "2023-10-23T13:47:18.265653400Z",
     "start_time": "2023-10-23T13:47:18.208317Z"
    }
   },
   "outputs": [
    {
     "name": "stdout",
     "output_type": "stream",
     "text": [
      "          0         1         2         3\n",
      "0 -0.625177 -1.026162 -0.314257 -1.379268\n",
      "1 -0.152461 -0.470528 -1.001508 -0.395118\n",
      "2  2.766713  1.142807 -0.794778 -1.059266\n",
      "3  1.283312  1.292631  0.386387  1.004410\n",
      "3\n",
      "a    1.004410\n",
      "b   -2.833651\n",
      "Name: 3, dtype: float64\n"
     ]
    }
   ],
   "source": [
    "def judge(x):\n",
    "    if x>=0:\n",
    "        return 'a'\n",
    "    else:\n",
    "        return 'b'\n",
    "df=pd.DataFrame(np.random.randn(4,4))\n",
    "print(df)\n",
    "print(df[3].groupby(df[3].map(judge)).sum())"
   ]
  }
 ],
 "metadata": {
  "kernelspec": {
   "display_name": "Python 3 (ipykernel)",
   "language": "python",
   "name": "python3"
  },
  "language_info": {
   "codemirror_mode": {
    "name": "ipython",
    "version": 3
   },
   "file_extension": ".py",
   "mimetype": "text/x-python",
   "name": "python",
   "nbconvert_exporter": "python",
   "pygments_lexer": "ipython3",
   "version": "3.11.5"
  }
 },
 "nbformat": 4,
 "nbformat_minor": 5
}
