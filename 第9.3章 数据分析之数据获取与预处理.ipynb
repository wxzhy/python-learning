{
 "cells": [
  {
   "cell_type": "markdown",
   "id": "87e496365aaf1c09",
   "metadata": {
    "collapsed": false,
    "jupyter": {
     "outputs_hidden": false
    }
   },
   "source": [
    "缺失值检查"
   ]
  },
  {
   "cell_type": "code",
   "execution_count": 1,
   "id": "initial_id",
   "metadata": {
    "ExecuteTime": {
     "end_time": "2023-10-23T13:48:06.959008500Z",
     "start_time": "2023-10-23T13:48:06.344610Z"
    }
   },
   "outputs": [
    {
     "name": "stdout",
     "output_type": "stream",
     "text": [
      "0      False\n",
      "1      False\n",
      "2       True\n",
      "3      False\n",
      "4      False\n",
      "       ...  \n",
      "120    False\n",
      "121    False\n",
      "122    False\n",
      "123     True\n",
      "124    False\n",
      "Name: lcom, Length: 125, dtype: bool\n",
      "(125, 22)\n",
      "(112, 22)\n",
      "     wmc  dit  noc  cbo  rfc    lcom  ca  ce  npm     lcom3  ...  moa  \\\n",
      "0     11    4    2   14   42    29.0   2  12    5  0.725000  ...    1   \n",
      "1     14    1    1    8   32    49.0   4   4   12  0.835165  ...    0   \n",
      "2      3    2    0    1    9     0.0   0   1    1  0.000000  ...    1   \n",
      "3     12    3    0   12   37    32.0   0  12   12  0.858586  ...    1   \n",
      "4      6    3    0    4   21     1.0   0   4    6  0.700000  ...    0   \n",
      "..   ...  ...  ...  ...  ...     ...  ..  ..  ...       ...  ...  ...   \n",
      "120   65    3    0   21  155  1670.0   6  21   59  0.917188  ...    5   \n",
      "121   14    4    0   99   28     0.0  98   1   14  0.384615  ...    1   \n",
      "122   14    1    0   24   63    63.0  20  20    9  0.841346  ...    0   \n",
      "123    4    2    0    3   16     0.0   0   3    4  0.333333  ...    0   \n",
      "124   27    1    0    3   63   297.0   1   2   10  0.778846  ...    2   \n",
      "\n",
      "          mfa       cam  ic  cbm        amc  max_cc  avg_cc  bugs  label  \n",
      "0    0.885057  0.232323   3    4  34.545455       3  1.2727     0      0  \n",
      "1    0.000000  0.307692   0    0  16.857143       6  1.6429     2      1  \n",
      "2    0.714286  0.666667   1    1  17.333333       1  0.6667     0      0  \n",
      "3    0.770833  0.458333   0    0  24.083333       3  1.4167     0      0  \n",
      "4    0.880952  0.416667   2    2  21.000000       1  0.8333     0      0  \n",
      "..        ...       ...  ..  ...        ...     ...     ...   ...    ...  \n",
      "120  0.370000  0.244141   3    3  21.830769      10  1.5231     0      0  \n",
      "121  0.650000  0.333333   1    2   9.785714       2  0.6429     0      0  \n",
      "122  0.000000  0.333333   0    0  56.571429      24  2.7857     2      1  \n",
      "123  0.842105  0.875000   1    1  13.500000       5  1.7500     0      0  \n",
      "124  0.000000  0.379630   0    0  18.222222      11  1.4444     0      0  \n",
      "\n",
      "[125 rows x 22 columns]\n"
     ]
    }
   ],
   "source": [
    "import numpy as np\n",
    "import pandas as pd\n",
    "\n",
    "if __name__ == '__main__':\n",
    "    df=pd.read_csv('ant-1.3.csv')\n",
    "    print(df['lcom'].isnull())\n",
    "    print(df.shape)\n",
    "    df1=df.dropna()\n",
    "    print(df1.shape)\n",
    "    df2=df.fillna(0)\n",
    "    print(df2)\n",
    "    df3=df.fillna(method='ffill')"
   ]
  },
  {
   "cell_type": "markdown",
   "id": "d2658cc9c0cbd6f0",
   "metadata": {
    "collapsed": false,
    "jupyter": {
     "outputs_hidden": false
    }
   },
   "source": [
    "异常值处理"
   ]
  },
  {
   "cell_type": "code",
   "execution_count": 2,
   "id": "d3c75001b2536764",
   "metadata": {
    "ExecuteTime": {
     "end_time": "2023-10-23T13:48:17.358308700Z",
     "start_time": "2023-10-23T13:48:17.232020600Z"
    },
    "collapsed": false,
    "jupyter": {
     "outputs_hidden": false
    }
   },
   "outputs": [
    {
     "data": {
      "image/png": "[encoded data removed]",
      "text/plain": [
       "<Figure size 640x480 with 1 Axes>"
      ]
     },
     "metadata": {},
     "output_type": "display_data"
    }
   ],
   "source": [
    "import matplotlib.pyplot as plt\n",
    "import numpy as np\n",
    "import pandas as pd\n",
    "if __name__ == '__main__':\n",
    "    df=pd.read_csv('ant-1.3.csv')\n",
    "    df1=df[['wmc','dit','cbo','rfc']]\n",
    "    plt.figure()\n",
    "    plt.boxplot(df1.values)\n",
    "    plt.show()"
   ]
  },
  {
   "cell_type": "markdown",
   "id": "c188d4f52f8fa811",
   "metadata": {
    "collapsed": false,
    "jupyter": {
     "outputs_hidden": false
    }
   },
   "source": [
    "规范化"
   ]
  },
  {
   "cell_type": "code",
   "execution_count": 3,
   "id": "4e164b3b9973a8f9",
   "metadata": {
    "ExecuteTime": {
     "end_time": "2023-10-23T13:48:43.113391Z",
     "start_time": "2023-10-23T13:48:42.092425500Z"
    },
    "collapsed": false,
    "jupyter": {
     "outputs_hidden": false
    }
   },
   "outputs": [
    {
     "name": "stdout",
     "output_type": "stream",
     "text": [
      "          wmc  dit       cbo       rfc\n",
      "0    0.154930  0.6  0.135922  0.225806\n",
      "1    0.197183  0.0  0.077670  0.172043\n",
      "2    0.042254  0.2  0.009709  0.048387\n",
      "3    0.169014  0.4  0.116505  0.198925\n",
      "4    0.084507  0.4  0.038835  0.112903\n",
      "..        ...  ...       ...       ...\n",
      "120  0.915493  0.4  0.203883  0.833333\n",
      "121  0.197183  0.6  0.961165  0.150538\n",
      "122  0.197183  0.0  0.233010  0.338710\n",
      "123  0.056338  0.2  0.029126  0.086022\n",
      "124  0.380282  0.0  0.029126  0.338710\n",
      "\n",
      "[125 rows x 4 columns]\n",
      "[[0.15492958 0.6        0.05882353 ... 0.21682909 0.         0.        ]\n",
      " [0.1971831  0.         0.02941176 ... 0.27989982 0.66666667 1.        ]\n",
      " [0.04225352 0.2        0.         ... 0.11358525 0.         0.        ]\n",
      " ...\n",
      " [0.1971831  0.         0.         ... 0.47459793 0.66666667 1.        ]\n",
      " [0.05633803 0.2        0.         ... 0.29814638 0.         0.        ]\n",
      " [0.38028169 0.         0.         ... 0.2460815  0.         0.        ]]\n"
     ]
    }
   ],
   "source": [
    "from sklearn import preprocessing\n",
    "df1=(df1-df1.min())/(df1.max()-df1.min())\n",
    "print(df1)\n",
    "df2=preprocessing.minmax_scale(df)\n",
    "print(df2)"
   ]
  },
  {
   "cell_type": "markdown",
   "id": "2cb479f94b9d0027",
   "metadata": {
    "collapsed": false,
    "jupyter": {
     "outputs_hidden": false
    }
   },
   "source": [
    "Z-score规范化"
   ]
  },
  {
   "cell_type": "code",
   "execution_count": 4,
   "id": "7f9e8c2a44f45c59",
   "metadata": {
    "ExecuteTime": {
     "end_time": "2023-10-23T13:48:46.158700700Z",
     "start_time": "2023-10-23T13:48:46.145973400Z"
    },
    "collapsed": false,
    "jupyter": {
     "outputs_hidden": false
    }
   },
   "outputs": [
    {
     "name": "stdout",
     "output_type": "stream",
     "text": [
      "          wmc       dit       cbo       rfc\n",
      "0    0.039365  1.343623  0.239605  0.262982\n",
      "1    0.328818 -0.999906 -0.163318 -0.081596\n",
      "2   -0.732507 -0.218729 -0.633395 -0.874126\n",
      "3    0.135850  0.562447  0.105297  0.090693\n",
      "4   -0.443055  0.562447 -0.431933 -0.460632\n",
      "..        ...       ...       ...       ...\n",
      "120  5.249505  0.562447  0.709682  4.156714\n",
      "121  0.328818  1.343623  5.947680 -0.219427\n",
      "122  0.328818 -0.999906  0.911143  0.986596\n",
      "123 -0.636023 -0.218729 -0.499087 -0.632921\n",
      "124  1.583111 -0.999906 -0.499087  0.986596\n",
      "\n",
      "[125 rows x 4 columns]\n",
      "[[ 0.03952391  1.34902998  0.43978645 ... -0.12446313 -0.38660668\n",
      "  -0.43643578]\n",
      " [ 0.33014091 -1.00392929  0.13094765 ...  0.25155657  2.54223182\n",
      "   2.29128785]\n",
      " [-0.73545476 -0.21960953 -0.17789115 ... -0.7399897  -0.38660668\n",
      "  -0.43643578]\n",
      " ...\n",
      " [ 0.33014091 -1.00392929 -0.17789115 ...  1.41232185  2.54223182\n",
      "   2.29128785]\n",
      " [-0.63858243 -0.21960953 -0.17789115 ...  0.36034022 -0.38660668\n",
      "  -0.43643578]\n",
      " [ 1.58948126 -1.00392929 -0.17789115 ...  0.04993607 -0.38660668\n",
      "  -0.43643578]]\n"
     ]
    }
   ],
   "source": [
    "df1=(df1-df1.mean())/df1.std()\n",
    "print(df1)\n",
    "df2=preprocessing.scale(df)\n",
    "print(df2)"
   ]
  },
  {
   "cell_type": "markdown",
   "id": "a6d8fd8ee7ef7281",
   "metadata": {
    "collapsed": false,
    "jupyter": {
     "outputs_hidden": false
    }
   },
   "source": [
    "连续属性离散化"
   ]
  },
  {
   "cell_type": "code",
   "execution_count": 5,
   "id": "a1cceca26d4f7788",
   "metadata": {
    "ExecuteTime": {
     "end_time": "2023-10-23T13:50:16.177484600Z",
     "start_time": "2023-10-23T13:50:16.160049900Z"
    },
    "collapsed": false,
    "jupyter": {
     "outputs_hidden": false
    }
   },
   "outputs": [
    {
     "data": {
      "text/plain": [
       "0      0\n",
       "1      0\n",
       "2      0\n",
       "3      0\n",
       "4      0\n",
       "      ..\n",
       "120    4\n",
       "121    0\n",
       "122    0\n",
       "123    0\n",
       "124    1\n",
       "Name: wmc, Length: 125, dtype: category\n",
       "Categories (5, int64): [0 < 1 < 2 < 3 < 4]"
      ]
     },
     "execution_count": 5,
     "metadata": {},
     "output_type": "execute_result"
    }
   ],
   "source": [
    "pd.cut(df.wmc,5,labels=range(5))"
   ]
  },
  {
   "cell_type": "code",
   "execution_count": 6,
   "id": "5cde39b257dece89",
   "metadata": {
    "ExecuteTime": {
     "end_time": "2023-10-23T13:50:22.253112200Z",
     "start_time": "2023-10-23T13:50:22.229511200Z"
    },
    "collapsed": false,
    "jupyter": {
     "outputs_hidden": false
    }
   },
   "outputs": [
    {
     "data": {
      "text/plain": [
       "0      3\n",
       "1      3\n",
       "2      0\n",
       "3      3\n",
       "4      1\n",
       "      ..\n",
       "120    4\n",
       "121    3\n",
       "122    3\n",
       "123    0\n",
       "124    4\n",
       "Name: wmc, Length: 125, dtype: category\n",
       "Categories (5, int64): [0 < 1 < 2 < 3 < 4]"
      ]
     },
     "execution_count": 6,
     "metadata": {},
     "output_type": "execute_result"
    }
   ],
   "source": [
    "pd.qcut(df.wmc,5,labels=range(5))"
   ]
  },
  {
   "cell_type": "markdown",
   "id": "b55ac1d5ab1c4ad3",
   "metadata": {
    "collapsed": false,
    "jupyter": {
     "outputs_hidden": false
    }
   },
   "source": [
    "分布分析"
   ]
  },
  {
   "cell_type": "code",
   "execution_count": 7,
   "id": "b818fa87ef19a99",
   "metadata": {
    "ExecuteTime": {
     "end_time": "2023-10-23T13:51:05.879849300Z",
     "start_time": "2023-10-23T13:51:05.740813Z"
    },
    "collapsed": false,
    "jupyter": {
     "outputs_hidden": false
    }
   },
   "outputs": [
    {
     "data": {
      "image/png": "[encoded data removed]",
      "text/plain": [
       "<Figure size 640x480 with 1 Axes>"
      ]
     },
     "metadata": {},
     "output_type": "display_data"
    }
   ],
   "source": [
    "plt.figure()\n",
    "plt.hist(df.iloc[:,0],5,color='c')\n",
    "#df1.boxplot()\n",
    "plt.show()"
   ]
  },
  {
   "cell_type": "code",
   "execution_count": 8,
   "id": "8edf230fa1655fee",
   "metadata": {
    "ExecuteTime": {
     "end_time": "2023-10-23T13:51:24.420829100Z",
     "start_time": "2023-10-23T13:51:24.379728200Z"
    },
    "collapsed": false,
    "jupyter": {
     "outputs_hidden": false
    }
   },
   "outputs": [
    {
     "name": "stdout",
     "output_type": "stream",
     "text": [
      "NormaltestResult(statistic=111.42891323348456, pvalue=6.360905288037061e-25)\n"
     ]
    }
   ],
   "source": [
    "import scipy\n",
    "print(scipy.stats.normaltest(df.iloc[:,0]))"
   ]
  },
  {
   "cell_type": "code",
   "execution_count": 9,
   "id": "946fc367e0ed73a2",
   "metadata": {
    "ExecuteTime": {
     "end_time": "2023-10-23T13:51:44.951758100Z",
     "start_time": "2023-10-23T13:51:44.880190600Z"
    },
    "collapsed": false,
    "jupyter": {
     "outputs_hidden": false
    }
   },
   "outputs": [
    {
     "name": "stdout",
     "output_type": "stream",
     "text": [
      "label\n",
      "0    105\n",
      "1     20\n",
      "Name: count, dtype: int64\n"
     ]
    },
    {
     "data": {
      "image/png": "[encoded data removed]",
      "text/plain": [
       "<Figure size 640x480 with 1 Axes>"
      ]
     },
     "metadata": {},
     "output_type": "display_data"
    }
   ],
   "source": [
    "print(df.label.value_counts())\n",
    "df.label.value_counts().plot(kind='pie')\n",
    "plt.show()"
   ]
  },
  {
   "cell_type": "markdown",
   "id": "3d61975bf4c50e79",
   "metadata": {
    "collapsed": false,
    "jupyter": {
     "outputs_hidden": false
    }
   },
   "source": [
    "相关性分析"
   ]
  },
  {
   "cell_type": "code",
   "execution_count": 10,
   "id": "90d7c5c5c8362ace",
   "metadata": {
    "ExecuteTime": {
     "end_time": "2023-10-23T13:52:21.140153800Z",
     "start_time": "2023-10-23T13:52:21.122580600Z"
    },
    "collapsed": false,
    "jupyter": {
     "outputs_hidden": false
    }
   },
   "outputs": [
    {
     "name": "stdout",
     "output_type": "stream",
     "text": [
      "PearsonRResult(statistic=0.08648220662388316, pvalue=0.33756637034413334)\n"
     ]
    }
   ],
   "source": [
    "from scipy.stats import pearsonr\n",
    "pccs=pearsonr(df.iloc[:,0],df.iloc[:,1])\n",
    "print(pccs)"
   ]
  },
  {
   "cell_type": "markdown",
   "id": "19b5ee1d97e457fd",
   "metadata": {
    "collapsed": false,
    "jupyter": {
     "outputs_hidden": false
    }
   },
   "source": [
    "统计分析"
   ]
  },
  {
   "cell_type": "code",
   "execution_count": 11,
   "id": "1fd08662ad1801b4",
   "metadata": {
    "ExecuteTime": {
     "end_time": "2023-10-23T13:52:42.917644800Z",
     "start_time": "2023-10-23T13:52:42.895103400Z"
    },
    "collapsed": false,
    "jupyter": {
     "outputs_hidden": false
    }
   },
   "outputs": [
    {
     "name": "stdout",
     "output_type": "stream",
     "text": [
      "count    125.000000\n",
      "mean      10.592000\n",
      "std       10.364406\n",
      "min        0.000000\n",
      "25%        4.000000\n",
      "50%        8.000000\n",
      "75%       14.000000\n",
      "max       71.000000\n",
      "Name: wmc, dtype: float64\n"
     ]
    }
   ],
   "source": [
    "print(df.iloc[:,0].describe())"
   ]
  }
 ],
 "metadata": {
  "kernelspec": {
   "display_name": "Python 3 (ipykernel)",
   "language": "python",
   "name": "python3"
  },
  "language_info": {
   "codemirror_mode": {
    "name": "ipython",
    "version": 3
   },
   "file_extension": ".py",
   "mimetype": "text/x-python",
   "name": "python",
   "nbconvert_exporter": "python",
   "pygments_lexer": "ipython3",
   "version": "3.11.5"
  }
 },
 "nbformat": 4,
 "nbformat_minor": 5
}
